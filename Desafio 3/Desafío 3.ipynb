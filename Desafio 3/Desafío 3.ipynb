{
 "cells": [
  {
   "cell_type": "markdown",
   "metadata": {
    "colab_type": "text",
    "id": "01a0feac-ab3d-4734-ab1e-ffaccc065b90",
    "slideshow": {
     "slide_type": "slide"
    }
   },
   "source": [
    "# LAB: Workflow de Datos. Limpieza y sumarización de datos para el Desafío 3.\n",
    "\n",
    "## Introducción\n",
    "\n",
    "La idea de este lab es comenzar a trabajar con los datos del Desafío 3. Vamos a tratar de comenzar con el proceso de limpieza, sumarización y análisis exploratorio del dataset de Properatti. Como recordarán, el objetivo final es el desarrollo de un tasador automático a ser aplicado a las próximas propiedades que sean comercializadas por la empresa mediante un modelo de regresión. Como verán, el dataset está sumamente \"sucio\" y require un intenso proceos de limpieza.\n",
    "\n",
    "El dataset contiene información referida al primer semestre de 2017 de las propiedades comercializables por la empresa:\n",
    "\n",
    "* Fecha de creación\n",
    "* Tipo de la propiedad (house, apartment, ph)\n",
    "* Operación del aviso (sell, rent)\n",
    "* Nombre del lugar\n",
    "* Nombre del lugar + nombre de sus ‘padres’\n",
    "* ID de geonames del lugar (si está disponible)\n",
    "* Latitud,Longitud\n",
    "* Precio original del aviso\n",
    "* Moneda original del aviso (ARS, USD)\n",
    "* Precio del aviso en moneda local (ARS)\n",
    "* Precio aproximado en USD\n",
    "* Superficie en m²\n",
    "* Superficie cubierta en m²\n",
    "* Precio en USD/m²\n",
    "* Precio por m²\n",
    "* N° de piso, si corresponde\n",
    "* Ambientes\n",
    "* URL en Properati\n",
    "* Descripción\n",
    "* Título\n",
    "* URL de un thumbnail de la primer foto\n",
    "\n",
    "\n",
    "Una vez terminada la limpieza, aquellos que se animen pueden empezar a probar algunos modelos simples de regresión.\n",
    "\n",
    "\n",
    "## Objetivos de aprendizaje\n",
    "\n",
    "* Practicar técnicas de limpieza de datos de tipo texto\n",
    "* Practicar conversiones de tipo de dato\n",
    "* Practicar rellenar datos faltantes con 0s o promedios\n",
    "* Practicar técnicas para trabajo con datos categóricos\n",
    "* Transformar datos a información útil\n",
    "* Realizar un primer análisis exploratorio\n",
    "* BONUS: realizar un primer modelo de regresión"
   ]
  },
  {
   "cell_type": "code",
   "execution_count": 33,
   "metadata": {
    "colab": {
     "autoexec": {
      "startup": false,
      "wait_interval": 0
     }
    },
    "colab_type": "code",
    "id": "13018c95-3582-460f-ba8e-4910f7089e11",
    "slideshow": {
     "slide_type": "subslide"
    }
   },
   "outputs": [],
   "source": [
    "% matplotlib inline\n",
    "import matplotlib.pyplot as plt\n",
    "import datetime\n",
    "import numpy as np\n",
    "import pandas as pd\n",
    "import re\n",
    "import seaborn as sns"
   ]
  },
  {
   "cell_type": "code",
   "execution_count": 2,
   "metadata": {
    "colab": {
     "autoexec": {
      "startup": false,
      "wait_interval": 0
     }
    },
    "colab_type": "code",
    "id": "80c8956f-2e08-49b5-90c6-f97c6a9676ad",
    "slideshow": {
     "slide_type": "slide"
    }
   },
   "outputs": [],
   "source": [
    "# Cargar la data\n",
    "df = pd.read_csv('properatti.csv')  # DATOS DE PROPIEDADES EN VENTA PROPERATI"
   ]
  },
  {
   "cell_type": "markdown",
   "metadata": {
    "colab_type": "text",
    "id": "ieT7uwFHB4CK",
    "slideshow": {
     "slide_type": "subslide"
    }
   },
   "source": [
    "# Limpiar el dataset\n",
    "Practiquemos nuestras capacidades para realizar limpieza de datos con el dataset de ventas de propiedades de Properatti. Si no recuerdan cómo hacer alguna de estas tareas, busquen en Internet o en clases anteriores de manipulación de datos.\n",
    "\n",
    "Buscamos que completen las siguientes tareas:\n",
    "* Quitar columnas redundantes\n",
    "* Convertir las variables categóricas numéricas a integer\n",
    "* Lidiar con los valores perdidos y/o erróneos en algunas variables clave: \n",
    "\n",
    "    + en este punto podría ser interesante realizar algo ligeramente más complejo que un simple rellenado en función de medias. Podría eventualmente imputar en función de medias condicionadas.\n",
    "        * por ejemplo, los campos `lat` y `long` tienen, también, muchos casos perdidos. Quizás una estrategia posible sería tratar de imputar las coordenadas con la media de los casos en el mismo `place_name` -barrio-.\n",
    "    + también podrían evaluar la posibilidad de extraer alguna información para completar los datos perdidos del campo \"description\" que contiene texto del aviso. \n",
    "        * por ejemplo, el campo `rooms` tiene una altísima cantidad de missing. Podrían intentar usando alguna expresión regex extraer información "
   ]
  },
  {
   "cell_type": "code",
   "execution_count": 4,
   "metadata": {
    "colab": {
     "autoexec": {
      "startup": false,
      "wait_interval": 0
     }
    },
    "colab_type": "code",
    "id": "RUx8FEMW1HUU",
    "outputId": "4986b1ec-8e6c-45a7-e70d-118232f80de2"
   },
   "outputs": [
    {
     "name": "stdout",
     "output_type": "stream",
     "text": [
      "<class 'pandas.core.frame.DataFrame'>\n",
      "RangeIndex: 121220 entries, 0 to 121219\n",
      "Data columns (total 26 columns):\n",
      "Unnamed: 0                    121220 non-null int64\n",
      "operation                     121220 non-null object\n",
      "property_type                 121220 non-null object\n",
      "place_name                    121197 non-null object\n",
      "place_with_parent_names       121220 non-null object\n",
      "country_name                  121220 non-null object\n",
      "state_name                    121220 non-null object\n",
      "geonames_id                   102503 non-null float64\n",
      "lat-lon                       69670 non-null object\n",
      "lat                           69670 non-null float64\n",
      "lon                           69670 non-null float64\n",
      "price                         100810 non-null float64\n",
      "currency                      100809 non-null object\n",
      "price_aprox_local_currency    100810 non-null float64\n",
      "price_aprox_usd               100810 non-null float64\n",
      "surface_total_in_m2           81892 non-null float64\n",
      "surface_covered_in_m2         101313 non-null float64\n",
      "price_usd_per_m2              68617 non-null float64\n",
      "price_per_m2                  87658 non-null float64\n",
      "floor                         7899 non-null float64\n",
      "rooms                         47390 non-null float64\n",
      "expenses                      14262 non-null float64\n",
      "properati_url                 121220 non-null object\n",
      "description                   121218 non-null object\n",
      "title                         121220 non-null object\n",
      "image_thumbnail               118108 non-null object\n",
      "dtypes: float64(13), int64(1), object(12)\n",
      "memory usage: 24.0+ MB\n"
     ]
    }
   ],
   "source": [
    "#Analizamos las columnas, los tipos de datos y la cantidad de datos nulos\n",
    "df.info()"
   ]
  },
  {
   "cell_type": "markdown",
   "metadata": {
    "colab_type": "text",
    "id": "WKzawxzsB4CQ",
    "slideshow": {
     "slide_type": "subslide"
    }
   },
   "source": [
    "# Filtrar los Datos\n",
    "\n",
    "En general, los mdoelos de precios suelen tener un carácter local. Es por eso que deberán elegir alguna zona o provincia para trabajar y estimar el modelo en base a dicha selección."
   ]
  },
  {
   "cell_type": "code",
   "execution_count": 10,
   "metadata": {
    "colab": {
     "autoexec": {
      "startup": false,
      "wait_interval": 0
     }
    },
    "colab_type": "code",
    "id": "raF1hXdl1HUa",
    "outputId": "9248d4b4-f304-46e7-a74f-3842c08bca3e"
   },
   "outputs": [
    {
     "name": "stdout",
     "output_type": "stream",
     "text": [
      "<class 'pandas.core.frame.DataFrame'>\n",
      "Int64Index: 121220 entries, 0 to 121219\n",
      "Data columns (total 26 columns):\n",
      "Unnamed: 0                    121220 non-null int64\n",
      "operation                     121220 non-null object\n",
      "property_type                 121220 non-null object\n",
      "place_name                    121197 non-null object\n",
      "place_with_parent_names       121220 non-null object\n",
      "country_name                  121220 non-null object\n",
      "state_name                    121220 non-null object\n",
      "geonames_id                   102503 non-null float64\n",
      "lat-lon                       69670 non-null object\n",
      "lat                           69670 non-null float64\n",
      "lon                           69670 non-null float64\n",
      "price                         100810 non-null float64\n",
      "currency                      100809 non-null object\n",
      "price_aprox_local_currency    100810 non-null float64\n",
      "price_aprox_usd               100810 non-null float64\n",
      "surface_total_in_m2           81892 non-null float64\n",
      "surface_covered_in_m2         101313 non-null float64\n",
      "price_usd_per_m2              68617 non-null float64\n",
      "price_per_m2                  87658 non-null float64\n",
      "floor                         7899 non-null float64\n",
      "rooms                         47390 non-null float64\n",
      "expenses                      14262 non-null float64\n",
      "properati_url                 121220 non-null object\n",
      "description                   121218 non-null object\n",
      "title                         121220 non-null object\n",
      "image_thumbnail               118108 non-null object\n",
      "dtypes: float64(13), int64(1), object(12)\n",
      "memory usage: 25.0+ MB\n"
     ]
    }
   ],
   "source": [
    "#Validamos que no tengamos duplicados\n",
    "df.drop_duplicates(subset=['lat-lon','properati_url','description']).info()"
   ]
  },
  {
   "cell_type": "code",
   "execution_count": 11,
   "metadata": {
    "colab": {
     "autoexec": {
      "startup": false,
      "wait_interval": 0
     }
    },
    "colab_type": "code",
    "id": "ZmOPqW001HUe"
   },
   "outputs": [],
   "source": [
    "def obtener_superficie(x):\n",
    "    if ~np.isnan(x['surface_covered_in_m2']):\n",
    "        return x['surface_covered_in_m2']\n",
    "    elif ~np.isnan(x['surface_total_in_m2']):\n",
    "        return x['surface_total_in_m2']\n",
    "    else:\n",
    "        return np.nan"
   ]
  },
  {
   "cell_type": "code",
   "execution_count": 12,
   "metadata": {
    "colab": {
     "autoexec": {
      "startup": false,
      "wait_interval": 0
     }
    },
    "colab_type": "code",
    "id": "atRlG_ZZB4Bv"
   },
   "outputs": [],
   "source": [
    "def calcular_precio(x):\n",
    "    if ~np.isnan(x['price_aprox_usd']):\n",
    "        return x['price_aprox_usd']\n",
    "    elif ~np.isnan(x['price_per_m2'])  :\n",
    "        return x['price_per_m2'] * df['superficie_cubierta']\n",
    "    elif ~np.isnan(x['price_usd_per_m2']): \n",
    "        return x['price_usd_per_m2'] * df['superficie_cubierta']\n",
    "    else:\n",
    "        return np.nan"
   ]
  },
  {
   "cell_type": "code",
   "execution_count": 13,
   "metadata": {
    "colab": {
     "autoexec": {
      "startup": false,
      "wait_interval": 0
     }
    },
    "colab_type": "code",
    "id": "4rezqas11HUi"
   },
   "outputs": [],
   "source": [
    "def obtener_ambientes(x):\n",
    "    try:\n",
    "        x = x.lower()\n",
    "        if (x.rfind(\"amb\") != -1) or (x.rfind(\"dorm\") != -1):\n",
    "            if (x.rfind(\"amb\") != -1):\n",
    "                pos = x.rfind(\"amb\")            \n",
    "            else:\n",
    "                pos = x.rfind(\"dorm\")  #ver si hay que sumarle 1 ambiente cuando solo diga cant de dormitorios\n",
    "                \n",
    "            try:\n",
    "                return (np.float64(x[pos -2]))\n",
    "            except ValueError:\n",
    "                if \"monoambiente\" in x:\n",
    "                    return 1.0\n",
    "                elif (\"dos amb\" in x) or (\"dos dorm\" in x):\n",
    "                    return 2.0\n",
    "                elif (\"tres amb\" in x) or (\"tres dorm\" in x):\n",
    "                    return 3.0\n",
    "                elif (\"cuatro amb\" in x) or (\"cuatro dorm\" in x):\n",
    "                    return 4.0\n",
    "                elif (\"cinco amb\" in x) or (\"cinco dorm\" in x):\n",
    "                    return 5.0\n",
    "                elif (\"seis amb\" in x) or (\"seis dorm\" in x):\n",
    "                    return 6.0\n",
    "                return 0\n",
    "    except AttributeError:\n",
    "        return None"
   ]
  },
  {
   "cell_type": "code",
   "execution_count": 14,
   "metadata": {
    "colab": {
     "autoexec": {
      "startup": false,
      "wait_interval": 0
     }
    },
    "colab_type": "code",
    "id": "wZzArs7l1HUk"
   },
   "outputs": [],
   "source": [
    "def obtener_balcon(x):\n",
    "    try:\n",
    "        x = x.lower()\n",
    "        if (\"balcon\" in x) or (\"balcón\" in x):\n",
    "            return 1\n",
    "        else:\n",
    "            return 0\n",
    "    except AttributeError:\n",
    "        return 0        "
   ]
  },
  {
   "cell_type": "code",
   "execution_count": 15,
   "metadata": {
    "colab": {
     "autoexec": {
      "startup": false,
      "wait_interval": 0
     }
    },
    "colab_type": "code",
    "id": "USYcCVJs1HUm"
   },
   "outputs": [],
   "source": [
    "def obtener_cochera(x):\n",
    "    try:\n",
    "        x = x.lower()\n",
    "        if (\"cochera\" in x):\n",
    "            return 1\n",
    "        else:\n",
    "            return 0\n",
    "    except AttributeError:\n",
    "        return 0       "
   ]
  },
  {
   "cell_type": "code",
   "execution_count": 16,
   "metadata": {
    "colab": {
     "autoexec": {
      "startup": false,
      "wait_interval": 0
     }
    },
    "colab_type": "code",
    "id": "Ir9mnBbD1HUt"
   },
   "outputs": [],
   "source": [
    "#Se crea la columna ambientes extrayendo los datos desde la columna descripcion\n",
    "df['ambientes'] = df['description'].apply(obtener_ambientes)"
   ]
  },
  {
   "cell_type": "code",
   "execution_count": 17,
   "metadata": {
    "colab": {
     "autoexec": {
      "startup": false,
      "wait_interval": 0
     }
    },
    "colab_type": "code",
    "id": "k_XD9TAH1HUw"
   },
   "outputs": [],
   "source": [
    "#Si en la descripcion no se encontraron datos intentamos con la columna title\n",
    "df.loc[df['ambientes']==0,'ambientes'] = df.loc[df['ambientes']==0,'title'].apply(obtener_ambientes)"
   ]
  },
  {
   "cell_type": "code",
   "execution_count": 18,
   "metadata": {
    "colab": {
     "autoexec": {
      "startup": false,
      "wait_interval": 0
     }
    },
    "colab_type": "code",
    "id": "_X40y9zd1HUz"
   },
   "outputs": [],
   "source": [
    "#Si no se encontraron ambientes ni en description ni en title se copia el valor de la columna rooms\n",
    "df.loc[(np.isnan(df['ambientes'])),'ambientes'] = df.loc[(np.isnan(df['ambientes'])),'rooms'] "
   ]
  },
  {
   "cell_type": "code",
   "execution_count": 19,
   "metadata": {
    "colab": {
     "autoexec": {
      "startup": false,
      "wait_interval": 0
     }
    },
    "colab_type": "code",
    "id": "58cdALw-1HU2"
   },
   "outputs": [],
   "source": [
    "#Agregamos columna dummy balcon\n",
    "df['balcon'] = df['description'].apply(obtener_balcon)"
   ]
  },
  {
   "cell_type": "code",
   "execution_count": 20,
   "metadata": {
    "colab": {
     "autoexec": {
      "startup": false,
      "wait_interval": 0
     }
    },
    "colab_type": "code",
    "id": "Vv6b6hUE1HU6"
   },
   "outputs": [],
   "source": [
    "#Agregamos columna dummy cochera\n",
    "df['cochera'] = df['description'].apply(obtener_cochera)"
   ]
  },
  {
   "cell_type": "code",
   "execution_count": 21,
   "metadata": {
    "colab": {
     "autoexec": {
      "startup": false,
      "wait_interval": 0
     }
    },
    "colab_type": "code",
    "id": "0Y41-FQ21HU9"
   },
   "outputs": [],
   "source": [
    "#Agregamos columna superficie_cubierta\n",
    "df['superficie_cubierta'] = df.apply(obtener_superficie,axis=1)"
   ]
  },
  {
   "cell_type": "code",
   "execution_count": 22,
   "metadata": {
    "colab": {
     "autoexec": {
      "startup": false,
      "wait_interval": 0
     }
    },
    "colab_type": "code",
    "id": "6piYiGUQ1HU_"
   },
   "outputs": [],
   "source": [
    "#Calculamos el precio\n",
    "df['precio'] = df.apply(calcular_precio,axis=1)"
   ]
  },
  {
   "cell_type": "code",
   "execution_count": 23,
   "metadata": {
    "colab": {
     "autoexec": {
      "startup": false,
      "wait_interval": 0
     }
    },
    "colab_type": "code",
    "id": "AZ0VYJGHB4B0"
   },
   "outputs": [],
   "source": [
    "#Calculamos el tipo de cambio\n",
    "#df['tipo_cambio'] = df['price'] / df['price_aprox_usd']"
   ]
  },
  {
   "cell_type": "code",
   "execution_count": 24,
   "metadata": {
    "colab": {
     "autoexec": {
      "startup": false,
      "wait_interval": 0
     }
    },
    "colab_type": "code",
    "id": "VcH2x14MB4B3"
   },
   "outputs": [],
   "source": [
    "#Filtramos por los departamentos a la venta en Capital Federal\n",
    "df_prop = df[(df['operation']== 'sell') & (df['state_name']== 'Capital Federal') & (df['property_type']== 'apartment')]"
   ]
  },
  {
   "cell_type": "code",
   "execution_count": 25,
   "metadata": {
    "colab": {
     "autoexec": {
      "startup": false,
      "wait_interval": 0
     }
    },
    "colab_type": "code",
    "id": "zNQ8J4c41HVG"
   },
   "outputs": [],
   "source": [
    "#Borramos las filas que no tengan precio ni superficie_cubierta\n",
    "df_prop = df_prop.dropna(axis=0 ,how='any',subset=['precio','superficie_cubierta'])"
   ]
  },
  {
   "cell_type": "code",
   "execution_count": 26,
   "metadata": {
    "colab": {
     "autoexec": {
      "startup": false,
      "wait_interval": 0
     }
    },
    "colab_type": "code",
    "id": "FsVED0kPB4B5"
   },
   "outputs": [],
   "source": [
    "#Tomamos solo las columnas que nos interesan\n",
    "df_prop = df_prop.loc[:,['place_name','geonames_id','lat-lon','lat','lon','floor','ambientes','expenses','description','title','superficie_cubierta','precio','cochera','balcon']].sort_values(by='place_name')"
   ]
  },
  {
   "cell_type": "code",
   "execution_count": 27,
   "metadata": {
    "colab": {
     "autoexec": {
      "startup": false,
      "wait_interval": 0
     }
    },
    "colab_type": "code",
    "id": "iD557kou1HVM"
   },
   "outputs": [],
   "source": [
    "#Modificamos el nombre de las columnas\n",
    "df_prop.columns = ['barrio','geonames_id','lat-lon','lat','lon','piso','ambientes','expensas','descripcion','titulo','superficie_cubierta','precio','cochera','balcon']"
   ]
  },
  {
   "cell_type": "markdown",
   "metadata": {
    "colab_type": "text",
    "id": "N-8VYk3RB4CT"
   },
   "source": [
    "# Análisis exploratorio\n",
    "\n",
    "Como estamos intentando predecir precios por metro cuadrado es importante realizar una primera vista y exploración de los datos."
   ]
  },
  {
   "cell_type": "code",
   "execution_count": 36,
   "metadata": {
    "colab": {
     "autoexec": {
      "startup": false,
      "wait_interval": 0
     }
    },
    "colab_type": "code",
    "id": "cuGHCKXT1HVP",
    "outputId": "1b64e3cf-f4f1-4065-8dd4-c64a20e5d008"
   },
   "outputs": [
    {
     "data": {
      "text/html": [
       "<div>\n",
       "<style scoped>\n",
       "    .dataframe tbody tr th:only-of-type {\n",
       "        vertical-align: middle;\n",
       "    }\n",
       "\n",
       "    .dataframe tbody tr th {\n",
       "        vertical-align: top;\n",
       "    }\n",
       "\n",
       "    .dataframe thead th {\n",
       "        text-align: right;\n",
       "    }\n",
       "</style>\n",
       "<table border=\"1\" class=\"dataframe\">\n",
       "  <thead>\n",
       "    <tr style=\"text-align: right;\">\n",
       "      <th></th>\n",
       "      <th>barrio</th>\n",
       "      <th>geonames_id</th>\n",
       "      <th>lat-lon</th>\n",
       "      <th>lat</th>\n",
       "      <th>lon</th>\n",
       "      <th>piso</th>\n",
       "      <th>ambientes</th>\n",
       "      <th>expensas</th>\n",
       "      <th>descripcion</th>\n",
       "      <th>titulo</th>\n",
       "      <th>superficie_cubierta</th>\n",
       "      <th>precio</th>\n",
       "      <th>cochera</th>\n",
       "      <th>balcon</th>\n",
       "    </tr>\n",
       "  </thead>\n",
       "  <tbody>\n",
       "    <tr>\n",
       "      <th>17996</th>\n",
       "      <td>Abasto</td>\n",
       "      <td>NaN</td>\n",
       "      <td>-34.6063725,-58.4124011</td>\n",
       "      <td>-34.606372</td>\n",
       "      <td>-58.412401</td>\n",
       "      <td>NaN</td>\n",
       "      <td>1.0</td>\n",
       "      <td>971.0</td>\n",
       "      <td>Monoambiente en tres niveles con entrepiso, a ...</td>\n",
       "      <td>DEPARTAMENTO EN VENTA</td>\n",
       "      <td>41.0</td>\n",
       "      <td>67000.00</td>\n",
       "      <td>0</td>\n",
       "      <td>0</td>\n",
       "    </tr>\n",
       "    <tr>\n",
       "      <th>71972</th>\n",
       "      <td>Abasto</td>\n",
       "      <td>NaN</td>\n",
       "      <td>-34.6005862561,-58.4107692116</td>\n",
       "      <td>-34.600586</td>\n",
       "      <td>-58.410769</td>\n",
       "      <td>NaN</td>\n",
       "      <td>NaN</td>\n",
       "      <td>NaN</td>\n",
       "      <td>Excelente emprendimiento en muy buena ubicació...</td>\n",
       "      <td>Departamento - Abasto</td>\n",
       "      <td>37.0</td>\n",
       "      <td>82000.00</td>\n",
       "      <td>1</td>\n",
       "      <td>0</td>\n",
       "    </tr>\n",
       "    <tr>\n",
       "      <th>71959</th>\n",
       "      <td>Abasto</td>\n",
       "      <td>NaN</td>\n",
       "      <td>-34.6005862561,-58.4107692116</td>\n",
       "      <td>-34.600586</td>\n",
       "      <td>-58.410769</td>\n",
       "      <td>NaN</td>\n",
       "      <td>NaN</td>\n",
       "      <td>NaN</td>\n",
       "      <td>Excelente emprendimiento en muy buena ubicació...</td>\n",
       "      <td>Departamento - Abasto</td>\n",
       "      <td>37.0</td>\n",
       "      <td>82000.00</td>\n",
       "      <td>1</td>\n",
       "      <td>0</td>\n",
       "    </tr>\n",
       "    <tr>\n",
       "      <th>92574</th>\n",
       "      <td>Abasto</td>\n",
       "      <td>NaN</td>\n",
       "      <td>NaN</td>\n",
       "      <td>NaN</td>\n",
       "      <td>NaN</td>\n",
       "      <td>NaN</td>\n",
       "      <td>2.0</td>\n",
       "      <td>NaN</td>\n",
       "      <td>Depto de dos dormitorios, baño completo, gran ...</td>\n",
       "      <td>Departamento - Abasto</td>\n",
       "      <td>83.0</td>\n",
       "      <td>160000.00</td>\n",
       "      <td>0</td>\n",
       "      <td>1</td>\n",
       "    </tr>\n",
       "    <tr>\n",
       "      <th>56135</th>\n",
       "      <td>Abasto</td>\n",
       "      <td>NaN</td>\n",
       "      <td>-34.602334,-58.4073109</td>\n",
       "      <td>-34.602334</td>\n",
       "      <td>-58.407311</td>\n",
       "      <td>NaN</td>\n",
       "      <td>3.0</td>\n",
       "      <td>2900.0</td>\n",
       "      <td>Venta de Departamento 3 AMBIENTES en Abasto, C...</td>\n",
       "      <td>DEPARTAMENTO EN VENTA</td>\n",
       "      <td>58.0</td>\n",
       "      <td>139500.00</td>\n",
       "      <td>0</td>\n",
       "      <td>1</td>\n",
       "    </tr>\n",
       "    <tr>\n",
       "      <th>23523</th>\n",
       "      <td>Abasto</td>\n",
       "      <td>NaN</td>\n",
       "      <td>-34.6045227,-58.4117071</td>\n",
       "      <td>-34.604523</td>\n",
       "      <td>-58.411707</td>\n",
       "      <td>NaN</td>\n",
       "      <td>2.0</td>\n",
       "      <td>1000.0</td>\n",
       "      <td>CODIGO: 3918-1 ubicado en: Aguero 800 -  Publi...</td>\n",
       "      <td>Semipiso de 2 ambientes, con Balcón terraza y ...</td>\n",
       "      <td>46.0</td>\n",
       "      <td>145000.00</td>\n",
       "      <td>1</td>\n",
       "      <td>1</td>\n",
       "    </tr>\n",
       "    <tr>\n",
       "      <th>92381</th>\n",
       "      <td>Abasto</td>\n",
       "      <td>NaN</td>\n",
       "      <td>NaN</td>\n",
       "      <td>NaN</td>\n",
       "      <td>NaN</td>\n",
       "      <td>NaN</td>\n",
       "      <td>2.0</td>\n",
       "      <td>NaN</td>\n",
       "      <td>Departamento en venta de 2 Dormitorios con bal...</td>\n",
       "      <td>Oportunidad - Depto de 2 Dormitorios con balcó...</td>\n",
       "      <td>60.0</td>\n",
       "      <td>87714.87</td>\n",
       "      <td>1</td>\n",
       "      <td>1</td>\n",
       "    </tr>\n",
       "    <tr>\n",
       "      <th>98082</th>\n",
       "      <td>Abasto</td>\n",
       "      <td>NaN</td>\n",
       "      <td>NaN</td>\n",
       "      <td>NaN</td>\n",
       "      <td>NaN</td>\n",
       "      <td>NaN</td>\n",
       "      <td>1.0</td>\n",
       "      <td>1900.0</td>\n",
       "      <td>OPORTUNIDAD! Hermoso monoambiente AMOBLADO en ...</td>\n",
       "      <td>Departamento 1 AMBIENTE, impecable con Ameniti...</td>\n",
       "      <td>31.0</td>\n",
       "      <td>97000.00</td>\n",
       "      <td>0</td>\n",
       "      <td>1</td>\n",
       "    </tr>\n",
       "    <tr>\n",
       "      <th>73189</th>\n",
       "      <td>Abasto</td>\n",
       "      <td>NaN</td>\n",
       "      <td>-34.6067402,-58.4135153</td>\n",
       "      <td>-34.606740</td>\n",
       "      <td>-58.413515</td>\n",
       "      <td>NaN</td>\n",
       "      <td>1.0</td>\n",
       "      <td>NaN</td>\n",
       "      <td>Capital Brokers Propiedades |  o 15-Dirección:...</td>\n",
       "      <td>Venta 1 ambiente</td>\n",
       "      <td>37.0</td>\n",
       "      <td>102366.00</td>\n",
       "      <td>0</td>\n",
       "      <td>0</td>\n",
       "    </tr>\n",
       "    <tr>\n",
       "      <th>98094</th>\n",
       "      <td>Abasto</td>\n",
       "      <td>NaN</td>\n",
       "      <td>NaN</td>\n",
       "      <td>NaN</td>\n",
       "      <td>NaN</td>\n",
       "      <td>NaN</td>\n",
       "      <td>1.0</td>\n",
       "      <td>1900.0</td>\n",
       "      <td>OPORTUNIDAD! Hermoso monoambiente AMOBLADO en ...</td>\n",
       "      <td>Departamento MONOAMBIENTE AMOBLADO- Abasto</td>\n",
       "      <td>31.0</td>\n",
       "      <td>97000.00</td>\n",
       "      <td>0</td>\n",
       "      <td>1</td>\n",
       "    </tr>\n",
       "  </tbody>\n",
       "</table>\n",
       "</div>"
      ],
      "text/plain": [
       "       barrio  geonames_id                        lat-lon        lat  \\\n",
       "17996  Abasto          NaN        -34.6063725,-58.4124011 -34.606372   \n",
       "71972  Abasto          NaN  -34.6005862561,-58.4107692116 -34.600586   \n",
       "71959  Abasto          NaN  -34.6005862561,-58.4107692116 -34.600586   \n",
       "92574  Abasto          NaN                            NaN        NaN   \n",
       "56135  Abasto          NaN         -34.602334,-58.4073109 -34.602334   \n",
       "23523  Abasto          NaN        -34.6045227,-58.4117071 -34.604523   \n",
       "92381  Abasto          NaN                            NaN        NaN   \n",
       "98082  Abasto          NaN                            NaN        NaN   \n",
       "73189  Abasto          NaN        -34.6067402,-58.4135153 -34.606740   \n",
       "98094  Abasto          NaN                            NaN        NaN   \n",
       "\n",
       "             lon  piso  ambientes  expensas  \\\n",
       "17996 -58.412401   NaN        1.0     971.0   \n",
       "71972 -58.410769   NaN        NaN       NaN   \n",
       "71959 -58.410769   NaN        NaN       NaN   \n",
       "92574        NaN   NaN        2.0       NaN   \n",
       "56135 -58.407311   NaN        3.0    2900.0   \n",
       "23523 -58.411707   NaN        2.0    1000.0   \n",
       "92381        NaN   NaN        2.0       NaN   \n",
       "98082        NaN   NaN        1.0    1900.0   \n",
       "73189 -58.413515   NaN        1.0       NaN   \n",
       "98094        NaN   NaN        1.0    1900.0   \n",
       "\n",
       "                                             descripcion  \\\n",
       "17996  Monoambiente en tres niveles con entrepiso, a ...   \n",
       "71972  Excelente emprendimiento en muy buena ubicació...   \n",
       "71959  Excelente emprendimiento en muy buena ubicació...   \n",
       "92574  Depto de dos dormitorios, baño completo, gran ...   \n",
       "56135  Venta de Departamento 3 AMBIENTES en Abasto, C...   \n",
       "23523  CODIGO: 3918-1 ubicado en: Aguero 800 -  Publi...   \n",
       "92381  Departamento en venta de 2 Dormitorios con bal...   \n",
       "98082  OPORTUNIDAD! Hermoso monoambiente AMOBLADO en ...   \n",
       "73189  Capital Brokers Propiedades |  o 15-Dirección:...   \n",
       "98094  OPORTUNIDAD! Hermoso monoambiente AMOBLADO en ...   \n",
       "\n",
       "                                                  titulo  superficie_cubierta  \\\n",
       "17996                              DEPARTAMENTO EN VENTA                 41.0   \n",
       "71972                              Departamento - Abasto                 37.0   \n",
       "71959                              Departamento - Abasto                 37.0   \n",
       "92574                              Departamento - Abasto                 83.0   \n",
       "56135                              DEPARTAMENTO EN VENTA                 58.0   \n",
       "23523  Semipiso de 2 ambientes, con Balcón terraza y ...                 46.0   \n",
       "92381  Oportunidad - Depto de 2 Dormitorios con balcó...                 60.0   \n",
       "98082  Departamento 1 AMBIENTE, impecable con Ameniti...                 31.0   \n",
       "73189                                   Venta 1 ambiente                 37.0   \n",
       "98094         Departamento MONOAMBIENTE AMOBLADO- Abasto                 31.0   \n",
       "\n",
       "          precio  cochera  balcon  \n",
       "17996   67000.00        0       0  \n",
       "71972   82000.00        1       0  \n",
       "71959   82000.00        1       0  \n",
       "92574  160000.00        0       1  \n",
       "56135  139500.00        0       1  \n",
       "23523  145000.00        1       1  \n",
       "92381   87714.87        1       1  \n",
       "98082   97000.00        0       1  \n",
       "73189  102366.00        0       0  \n",
       "98094   97000.00        0       1  "
      ]
     },
     "execution_count": 36,
     "metadata": {},
     "output_type": "execute_result"
    }
   ],
   "source": [
    "df_prop.head(10)"
   ]
  },
  {
   "cell_type": "code",
   "execution_count": 29,
   "metadata": {},
   "outputs": [
    {
     "name": "stdout",
     "output_type": "stream",
     "text": [
      "<class 'pandas.core.frame.DataFrame'>\n",
      "Int64Index: 23777 entries, 17996 to 56195\n",
      "Data columns (total 14 columns):\n",
      "barrio                 23777 non-null object\n",
      "geonames_id            22799 non-null float64\n",
      "lat-lon                17888 non-null object\n",
      "lat                    17888 non-null float64\n",
      "lon                    17888 non-null float64\n",
      "piso                   2766 non-null float64\n",
      "ambientes              20832 non-null float64\n",
      "expensas               5905 non-null float64\n",
      "descripcion            23777 non-null object\n",
      "titulo                 23777 non-null object\n",
      "superficie_cubierta    23777 non-null float64\n",
      "precio                 23777 non-null float64\n",
      "cochera                23777 non-null int64\n",
      "balcon                 23777 non-null int64\n",
      "dtypes: float64(8), int64(2), object(4)\n",
      "memory usage: 2.7+ MB\n"
     ]
    }
   ],
   "source": [
    "df_prop.info()"
   ]
  },
  {
   "cell_type": "code",
   "execution_count": 30,
   "metadata": {
    "colab": {
     "autoexec": {
      "startup": false,
      "wait_interval": 0
     }
    },
    "colab_type": "code",
    "id": "0CY5aKPB1HVR",
    "outputId": "5cb97e20-9ce3-4258-8a48-82093decda22"
   },
   "outputs": [
    {
     "data": {
      "text/html": [
       "<div>\n",
       "<style scoped>\n",
       "    .dataframe tbody tr th:only-of-type {\n",
       "        vertical-align: middle;\n",
       "    }\n",
       "\n",
       "    .dataframe tbody tr th {\n",
       "        vertical-align: top;\n",
       "    }\n",
       "\n",
       "    .dataframe thead th {\n",
       "        text-align: right;\n",
       "    }\n",
       "</style>\n",
       "<table border=\"1\" class=\"dataframe\">\n",
       "  <thead>\n",
       "    <tr style=\"text-align: right;\">\n",
       "      <th></th>\n",
       "      <th>count</th>\n",
       "      <th>mean</th>\n",
       "      <th>std</th>\n",
       "      <th>min</th>\n",
       "      <th>25%</th>\n",
       "      <th>50%</th>\n",
       "      <th>75%</th>\n",
       "      <th>max</th>\n",
       "    </tr>\n",
       "    <tr>\n",
       "      <th>barrio</th>\n",
       "      <th></th>\n",
       "      <th></th>\n",
       "      <th></th>\n",
       "      <th></th>\n",
       "      <th></th>\n",
       "      <th></th>\n",
       "      <th></th>\n",
       "      <th></th>\n",
       "    </tr>\n",
       "  </thead>\n",
       "  <tbody>\n",
       "    <tr>\n",
       "      <th>Abasto</th>\n",
       "      <td>76.0</td>\n",
       "      <td>125285.919342</td>\n",
       "      <td>61355.937605</td>\n",
       "      <td>38000.0</td>\n",
       "      <td>83480.5</td>\n",
       "      <td>114750.0</td>\n",
       "      <td>150058.0</td>\n",
       "      <td>440000.0</td>\n",
       "    </tr>\n",
       "    <tr>\n",
       "      <th>Agronomía</th>\n",
       "      <td>27.0</td>\n",
       "      <td>129110.185185</td>\n",
       "      <td>39659.321256</td>\n",
       "      <td>69595.0</td>\n",
       "      <td>102500.0</td>\n",
       "      <td>127000.0</td>\n",
       "      <td>140000.0</td>\n",
       "      <td>225000.0</td>\n",
       "    </tr>\n",
       "    <tr>\n",
       "      <th>Almagro</th>\n",
       "      <td>849.0</td>\n",
       "      <td>152803.328693</td>\n",
       "      <td>115866.705422</td>\n",
       "      <td>5500.0</td>\n",
       "      <td>85000.0</td>\n",
       "      <td>125000.0</td>\n",
       "      <td>175000.0</td>\n",
       "      <td>999900.0</td>\n",
       "    </tr>\n",
       "    <tr>\n",
       "      <th>Balvanera</th>\n",
       "      <td>549.0</td>\n",
       "      <td>132672.884809</td>\n",
       "      <td>89443.700080</td>\n",
       "      <td>45000.0</td>\n",
       "      <td>80000.0</td>\n",
       "      <td>116000.0</td>\n",
       "      <td>150000.0</td>\n",
       "      <td>980000.0</td>\n",
       "    </tr>\n",
       "    <tr>\n",
       "      <th>Barracas</th>\n",
       "      <td>299.0</td>\n",
       "      <td>166882.166388</td>\n",
       "      <td>122853.088934</td>\n",
       "      <td>40000.0</td>\n",
       "      <td>89000.0</td>\n",
       "      <td>131000.0</td>\n",
       "      <td>202500.0</td>\n",
       "      <td>1419000.0</td>\n",
       "    </tr>\n",
       "  </tbody>\n",
       "</table>\n",
       "</div>"
      ],
      "text/plain": [
       "           count           mean            std      min       25%       50%  \\\n",
       "barrio                                                                        \n",
       "Abasto      76.0  125285.919342   61355.937605  38000.0   83480.5  114750.0   \n",
       "Agronomía   27.0  129110.185185   39659.321256  69595.0  102500.0  127000.0   \n",
       "Almagro    849.0  152803.328693  115866.705422   5500.0   85000.0  125000.0   \n",
       "Balvanera  549.0  132672.884809   89443.700080  45000.0   80000.0  116000.0   \n",
       "Barracas   299.0  166882.166388  122853.088934  40000.0   89000.0  131000.0   \n",
       "\n",
       "                75%        max  \n",
       "barrio                          \n",
       "Abasto     150058.0   440000.0  \n",
       "Agronomía  140000.0   225000.0  \n",
       "Almagro    175000.0   999900.0  \n",
       "Balvanera  150000.0   980000.0  \n",
       "Barracas   202500.0  1419000.0  "
      ]
     },
     "execution_count": 30,
     "metadata": {},
     "output_type": "execute_result"
    }
   ],
   "source": [
    "df_t = df_prop.groupby(by=['barrio']).precio.describe()\n",
    "df_t.head()"
   ]
  },
  {
   "cell_type": "code",
   "execution_count": 32,
   "metadata": {
    "colab": {
     "autoexec": {
      "startup": false,
      "wait_interval": 0
     }
    },
    "colab_type": "code",
    "id": "SOol38k31HVb",
    "outputId": "5ca2a935-5c9f-405f-b415-ff59d6ab9b87"
   },
   "outputs": [
    {
     "data": {
      "text/html": [
       "<div>\n",
       "<style scoped>\n",
       "    .dataframe tbody tr th:only-of-type {\n",
       "        vertical-align: middle;\n",
       "    }\n",
       "\n",
       "    .dataframe tbody tr th {\n",
       "        vertical-align: top;\n",
       "    }\n",
       "\n",
       "    .dataframe thead th {\n",
       "        text-align: right;\n",
       "    }\n",
       "</style>\n",
       "<table border=\"1\" class=\"dataframe\">\n",
       "  <thead>\n",
       "    <tr style=\"text-align: right;\">\n",
       "      <th></th>\n",
       "      <th>count</th>\n",
       "      <th>mean</th>\n",
       "      <th>std</th>\n",
       "      <th>min</th>\n",
       "      <th>25%</th>\n",
       "      <th>50%</th>\n",
       "      <th>75%</th>\n",
       "      <th>max</th>\n",
       "    </tr>\n",
       "    <tr>\n",
       "      <th>barrio</th>\n",
       "      <th></th>\n",
       "      <th></th>\n",
       "      <th></th>\n",
       "      <th></th>\n",
       "      <th></th>\n",
       "      <th></th>\n",
       "      <th></th>\n",
       "      <th></th>\n",
       "    </tr>\n",
       "  </thead>\n",
       "  <tbody>\n",
       "    <tr>\n",
       "      <th>Abasto</th>\n",
       "      <td>76.0</td>\n",
       "      <td>125285.919342</td>\n",
       "      <td>61355.937605</td>\n",
       "      <td>38000.00</td>\n",
       "      <td>83480.50</td>\n",
       "      <td>114750.0</td>\n",
       "      <td>150058.0</td>\n",
       "      <td>440000.0</td>\n",
       "    </tr>\n",
       "    <tr>\n",
       "      <th>Agronomía</th>\n",
       "      <td>27.0</td>\n",
       "      <td>129110.185185</td>\n",
       "      <td>39659.321256</td>\n",
       "      <td>69595.00</td>\n",
       "      <td>102500.00</td>\n",
       "      <td>127000.0</td>\n",
       "      <td>140000.0</td>\n",
       "      <td>225000.0</td>\n",
       "    </tr>\n",
       "    <tr>\n",
       "      <th>Chacarita</th>\n",
       "      <td>181.0</td>\n",
       "      <td>115302.742099</td>\n",
       "      <td>56718.252149</td>\n",
       "      <td>50000.00</td>\n",
       "      <td>85790.00</td>\n",
       "      <td>96000.0</td>\n",
       "      <td>130000.0</td>\n",
       "      <td>450000.0</td>\n",
       "    </tr>\n",
       "    <tr>\n",
       "      <th>Constitución</th>\n",
       "      <td>170.0</td>\n",
       "      <td>90931.366176</td>\n",
       "      <td>52103.548977</td>\n",
       "      <td>23555.14</td>\n",
       "      <td>70000.00</td>\n",
       "      <td>81900.0</td>\n",
       "      <td>96870.0</td>\n",
       "      <td>419000.0</td>\n",
       "    </tr>\n",
       "    <tr>\n",
       "      <th>Floresta</th>\n",
       "      <td>274.0</td>\n",
       "      <td>118684.873577</td>\n",
       "      <td>51145.216694</td>\n",
       "      <td>5608.36</td>\n",
       "      <td>85000.00</td>\n",
       "      <td>109750.0</td>\n",
       "      <td>139500.0</td>\n",
       "      <td>359999.0</td>\n",
       "    </tr>\n",
       "    <tr>\n",
       "      <th>Monte Castro</th>\n",
       "      <td>41.0</td>\n",
       "      <td>117700.000000</td>\n",
       "      <td>43385.106892</td>\n",
       "      <td>60000.00</td>\n",
       "      <td>88000.00</td>\n",
       "      <td>105000.0</td>\n",
       "      <td>137500.0</td>\n",
       "      <td>245000.0</td>\n",
       "    </tr>\n",
       "    <tr>\n",
       "      <th>Parque Avellaneda</th>\n",
       "      <td>22.0</td>\n",
       "      <td>100427.272727</td>\n",
       "      <td>36932.850029</td>\n",
       "      <td>9500.00</td>\n",
       "      <td>77250.00</td>\n",
       "      <td>98250.0</td>\n",
       "      <td>124625.0</td>\n",
       "      <td>200000.0</td>\n",
       "    </tr>\n",
       "    <tr>\n",
       "      <th>Parque Chas</th>\n",
       "      <td>34.0</td>\n",
       "      <td>108961.705882</td>\n",
       "      <td>31036.409462</td>\n",
       "      <td>25000.00</td>\n",
       "      <td>93650.00</td>\n",
       "      <td>103900.0</td>\n",
       "      <td>127050.0</td>\n",
       "      <td>195258.0</td>\n",
       "    </tr>\n",
       "    <tr>\n",
       "      <th>Paternal</th>\n",
       "      <td>94.0</td>\n",
       "      <td>107255.260106</td>\n",
       "      <td>49881.651858</td>\n",
       "      <td>55000.00</td>\n",
       "      <td>75000.00</td>\n",
       "      <td>91525.5</td>\n",
       "      <td>128375.0</td>\n",
       "      <td>375000.0</td>\n",
       "    </tr>\n",
       "    <tr>\n",
       "      <th>Pompeya</th>\n",
       "      <td>16.0</td>\n",
       "      <td>86041.421875</td>\n",
       "      <td>41036.174680</td>\n",
       "      <td>42062.75</td>\n",
       "      <td>54400.00</td>\n",
       "      <td>70000.0</td>\n",
       "      <td>106250.0</td>\n",
       "      <td>160000.0</td>\n",
       "    </tr>\n",
       "    <tr>\n",
       "      <th>Velez Sarsfield</th>\n",
       "      <td>10.0</td>\n",
       "      <td>105139.900000</td>\n",
       "      <td>41847.511914</td>\n",
       "      <td>52000.00</td>\n",
       "      <td>73975.00</td>\n",
       "      <td>97000.0</td>\n",
       "      <td>134625.0</td>\n",
       "      <td>172999.0</td>\n",
       "    </tr>\n",
       "    <tr>\n",
       "      <th>Versalles</th>\n",
       "      <td>18.0</td>\n",
       "      <td>140883.333333</td>\n",
       "      <td>56863.078583</td>\n",
       "      <td>68000.00</td>\n",
       "      <td>108750.00</td>\n",
       "      <td>127000.0</td>\n",
       "      <td>163500.0</td>\n",
       "      <td>295000.0</td>\n",
       "    </tr>\n",
       "    <tr>\n",
       "      <th>Villa Lugano</th>\n",
       "      <td>78.0</td>\n",
       "      <td>89916.564615</td>\n",
       "      <td>48656.308250</td>\n",
       "      <td>24300.00</td>\n",
       "      <td>60000.00</td>\n",
       "      <td>76500.0</td>\n",
       "      <td>105000.0</td>\n",
       "      <td>350000.0</td>\n",
       "    </tr>\n",
       "    <tr>\n",
       "      <th>Villa Ortuzar</th>\n",
       "      <td>66.0</td>\n",
       "      <td>126328.787879</td>\n",
       "      <td>61226.411508</td>\n",
       "      <td>74000.00</td>\n",
       "      <td>97250.00</td>\n",
       "      <td>113500.0</td>\n",
       "      <td>135375.0</td>\n",
       "      <td>520000.0</td>\n",
       "    </tr>\n",
       "    <tr>\n",
       "      <th>Villa Pueyrredón</th>\n",
       "      <td>104.0</td>\n",
       "      <td>128990.085385</td>\n",
       "      <td>49744.382208</td>\n",
       "      <td>10274.52</td>\n",
       "      <td>94650.00</td>\n",
       "      <td>121356.5</td>\n",
       "      <td>150215.0</td>\n",
       "      <td>325000.0</td>\n",
       "    </tr>\n",
       "    <tr>\n",
       "      <th>Villa Real</th>\n",
       "      <td>8.0</td>\n",
       "      <td>152625.000000</td>\n",
       "      <td>39449.560925</td>\n",
       "      <td>79000.00</td>\n",
       "      <td>145250.00</td>\n",
       "      <td>152000.0</td>\n",
       "      <td>163750.0</td>\n",
       "      <td>220000.0</td>\n",
       "    </tr>\n",
       "    <tr>\n",
       "      <th>Villa Santa Rita</th>\n",
       "      <td>30.0</td>\n",
       "      <td>112458.333333</td>\n",
       "      <td>59505.517106</td>\n",
       "      <td>60000.00</td>\n",
       "      <td>74125.00</td>\n",
       "      <td>92450.0</td>\n",
       "      <td>132000.0</td>\n",
       "      <td>375000.0</td>\n",
       "    </tr>\n",
       "    <tr>\n",
       "      <th>Villa Soldati</th>\n",
       "      <td>8.0</td>\n",
       "      <td>64065.355000</td>\n",
       "      <td>15356.841525</td>\n",
       "      <td>39000.00</td>\n",
       "      <td>53642.13</td>\n",
       "      <td>69000.0</td>\n",
       "      <td>72500.0</td>\n",
       "      <td>86000.0</td>\n",
       "    </tr>\n",
       "  </tbody>\n",
       "</table>\n",
       "</div>"
      ],
      "text/plain": [
       "                   count           mean           std       min        25%  \\\n",
       "barrio                                                                       \n",
       "Abasto              76.0  125285.919342  61355.937605  38000.00   83480.50   \n",
       "Agronomía           27.0  129110.185185  39659.321256  69595.00  102500.00   \n",
       "Chacarita          181.0  115302.742099  56718.252149  50000.00   85790.00   \n",
       "Constitución       170.0   90931.366176  52103.548977  23555.14   70000.00   \n",
       "Floresta           274.0  118684.873577  51145.216694   5608.36   85000.00   \n",
       "Monte Castro        41.0  117700.000000  43385.106892  60000.00   88000.00   \n",
       "Parque Avellaneda   22.0  100427.272727  36932.850029   9500.00   77250.00   \n",
       "Parque Chas         34.0  108961.705882  31036.409462  25000.00   93650.00   \n",
       "Paternal            94.0  107255.260106  49881.651858  55000.00   75000.00   \n",
       "Pompeya             16.0   86041.421875  41036.174680  42062.75   54400.00   \n",
       "Velez Sarsfield     10.0  105139.900000  41847.511914  52000.00   73975.00   \n",
       "Versalles           18.0  140883.333333  56863.078583  68000.00  108750.00   \n",
       "Villa Lugano        78.0   89916.564615  48656.308250  24300.00   60000.00   \n",
       "Villa Ortuzar       66.0  126328.787879  61226.411508  74000.00   97250.00   \n",
       "Villa Pueyrredón   104.0  128990.085385  49744.382208  10274.52   94650.00   \n",
       "Villa Real           8.0  152625.000000  39449.560925  79000.00  145250.00   \n",
       "Villa Santa Rita    30.0  112458.333333  59505.517106  60000.00   74125.00   \n",
       "Villa Soldati        8.0   64065.355000  15356.841525  39000.00   53642.13   \n",
       "\n",
       "                        50%       75%       max  \n",
       "barrio                                           \n",
       "Abasto             114750.0  150058.0  440000.0  \n",
       "Agronomía          127000.0  140000.0  225000.0  \n",
       "Chacarita           96000.0  130000.0  450000.0  \n",
       "Constitución        81900.0   96870.0  419000.0  \n",
       "Floresta           109750.0  139500.0  359999.0  \n",
       "Monte Castro       105000.0  137500.0  245000.0  \n",
       "Parque Avellaneda   98250.0  124625.0  200000.0  \n",
       "Parque Chas        103900.0  127050.0  195258.0  \n",
       "Paternal            91525.5  128375.0  375000.0  \n",
       "Pompeya             70000.0  106250.0  160000.0  \n",
       "Velez Sarsfield     97000.0  134625.0  172999.0  \n",
       "Versalles          127000.0  163500.0  295000.0  \n",
       "Villa Lugano        76500.0  105000.0  350000.0  \n",
       "Villa Ortuzar      113500.0  135375.0  520000.0  \n",
       "Villa Pueyrredón   121356.5  150215.0  325000.0  \n",
       "Villa Real         152000.0  163750.0  220000.0  \n",
       "Villa Santa Rita    92450.0  132000.0  375000.0  \n",
       "Villa Soldati       69000.0   72500.0   86000.0  "
      ]
     },
     "execution_count": 32,
     "metadata": {},
     "output_type": "execute_result"
    }
   ],
   "source": [
    "#Filtramos por dispercion y medias para elegir los barrios que el algoritmo va a tasar el objetivo es encontrar la menor varianza\n",
    "\n",
    "df_t[df_t['std']<6.4751e+04]"
   ]
  },
  {
   "cell_type": "markdown",
   "metadata": {
    "colab_type": "text",
    "id": "-kX4L3z61HVe"
   },
   "source": [
    "Los barrios son: Agronomia, Chacarita (a ver), paternal,Parque chas, villa ortuzar y villa pueyrredon y conforman el mercado relevante (Oferta)"
   ]
  },
  {
   "cell_type": "code",
   "execution_count": 35,
   "metadata": {},
   "outputs": [
    {
     "data": {
      "image/png": "[encoded data removed]",
      "text/plain": [
       "<matplotlib.figure.Figure at 0x22f922db6d8>"
      ]
     },
     "metadata": {},
     "output_type": "display_data"
    }
   ],
   "source": [
    "#\n",
    "sns.distplot(df_prop['precio'][(df_prop['barrio']=='Agronomia')]);"
   ]
  },
  {
   "cell_type": "markdown",
   "metadata": {
    "colab_type": "text",
    "id": "hsP0wdCxB4CX"
   },
   "source": [
    "¿En qué barrios los precios por $m^2$ son más altos? "
   ]
  },
  {
   "cell_type": "code",
   "execution_count": 0,
   "metadata": {
    "colab": {
     "autoexec": {
      "startup": false,
      "wait_interval": 0
     }
    },
    "colab_type": "code",
    "id": "5seYgfobB4CZ"
   },
   "outputs": [],
   "source": []
  },
  {
   "cell_type": "markdown",
   "metadata": {
    "colab_type": "text",
    "id": "ihCBo1jtB4Cb"
   },
   "source": [
    "¿En qué barrios hay una mayor cantidad de viviendas para su venta?"
   ]
  },
  {
   "cell_type": "code",
   "execution_count": 0,
   "metadata": {
    "colab": {
     "autoexec": {
      "startup": false,
      "wait_interval": 0
     }
    },
    "colab_type": "code",
    "id": "JnJaTMQDB4Cb"
   },
   "outputs": [],
   "source": []
  },
  {
   "cell_type": "markdown",
   "metadata": {
    "colab_type": "text",
    "id": "B_WNyk-tB4Ce"
   },
   "source": [
    "¿ En qué barrios hay una mayor dispersión de precios?"
   ]
  },
  {
   "cell_type": "code",
   "execution_count": 0,
   "metadata": {
    "colab": {
     "autoexec": {
      "startup": false,
      "wait_interval": 0
     }
    },
    "colab_type": "code",
    "id": "nWV2Xx0CB4Cf"
   },
   "outputs": [],
   "source": []
  },
  {
   "cell_type": "markdown",
   "metadata": {
    "colab_type": "text",
    "id": "VcKGfTTZB4Cg"
   },
   "source": [
    "¿Qué tipo de propiedad presenta los mayores precios? ¿Cuál las mayores dispersiones?"
   ]
  },
  {
   "cell_type": "code",
   "execution_count": 0,
   "metadata": {
    "colab": {
     "autoexec": {
      "startup": false,
      "wait_interval": 0
     }
    },
    "colab_type": "code",
    "id": "ShjlEqL1B4Ch"
   },
   "outputs": [],
   "source": []
  },
  {
   "cell_type": "markdown",
   "metadata": {
    "colab_type": "text",
    "id": "rDabMOv0B4Cj"
   },
   "source": [
    "Continua realizando un análisis exploratorio del dataset..."
   ]
  },
  {
   "cell_type": "code",
   "execution_count": 0,
   "metadata": {
    "colab": {
     "autoexec": {
      "startup": false,
      "wait_interval": 0
     }
    },
    "colab_type": "code",
    "id": "6bE4hzzKB4Cj"
   },
   "outputs": [],
   "source": []
  },
  {
   "cell_type": "markdown",
   "metadata": {
    "colab_type": "text",
    "id": "HvxdN35RB4Cl"
   },
   "source": [
    "## BONUS: Empezando con regresiones lineales...\n",
    "\n",
    "Si se atreven, podrían empezar a probar con algunos modelos de regresión no demasiado sofisticados. Seleccionen (o construyan) su variable dependiente ($Y$) y comiencen probando con pocas variables y modelos sencillos.\n",
    "\n",
    "Usen el estimador `LinearRegression` de submódulo `sklearn.linear_model`.\n",
    "\n",
    "Recuerden los pasos para comenzar a trabajar con estimadores en Scikit-Learn.\n",
    "    \n",
    "1. Elegir una clase de modelo importando la clase de estimador apropiado de Scikit-Learn.\n",
    "2. Seleccionar los hiperparámetros del modelo instanciando la clase con los valores deseados.\n",
    "3. Preparar los datos en una matriz de features y un array target, como vimos previamente.\n",
    "4. Ajustar el modelo a los datos invocando el método fit() de la instancia del modelo.\n",
    "5. Aplicar el modelo a nuevos datos:\n",
    "    * Para aprendizaje supervisado, frecuentemente predecimos labels para datos nuevos usando el método predict()\n",
    "    * Para aprendizaje no supervisado, frecuentemente transformamos o inferimos propiedades de los datos usando los métodos transform() o predict()\n",
    "    \n",
    "¿Qué pueden decir del ajuste y la capacidad predictiva de sus modelos?"
   ]
  },
  {
   "cell_type": "code",
   "execution_count": 0,
   "metadata": {
    "colab": {
     "autoexec": {
      "startup": false,
      "wait_interval": 0
     }
    },
    "colab_type": "code",
    "id": "ZoC4xjciB4Cl"
   },
   "outputs": [],
   "source": [
    "from sklearn.linear_model import LinearRegression"
   ]
  },
  {
   "cell_type": "code",
   "execution_count": 0,
   "metadata": {
    "colab": {
     "autoexec": {
      "startup": false,
      "wait_interval": 0
     }
    },
    "colab_type": "code",
    "id": "pinNaN6WB4Co"
   },
   "outputs": [],
   "source": []
  }
 ],
 "metadata": {
  "colab": {
   "default_view": {},
   "name": "Desafío 3.ipynb",
   "provenance": [],
   "version": "0.3.2",
   "views": {}
  },
  "kernelspec": {
   "display_name": "Python 3",
   "language": "python",
   "name": "python3"
  },
  "language_info": {
   "codemirror_mode": {
    "name": "ipython",
    "version": 3
   },
   "file_extension": ".py",
   "mimetype": "text/x-python",
   "name": "python",
   "nbconvert_exporter": "python",
   "pygments_lexer": "ipython3",
   "version": "3.6.4"
  }
 },
 "nbformat": 4,
 "nbformat_minor": 1
}
