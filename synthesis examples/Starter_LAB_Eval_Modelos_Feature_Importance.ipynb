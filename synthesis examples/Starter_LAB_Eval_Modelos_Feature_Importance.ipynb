{
 "cells": [
  {
   "cell_type": "markdown",
   "metadata": {
    "colab_type": "text",
    "id": "cv6aNPMI5-re"
   },
   "source": [
    "# LAB: Comparación de modelos\n",
    "\n",
    "En este lab vamos a comparar el rendimiento de todos los modelos que hemos aprendido hasta ahora, utilizando el dataset de evaluación de autos."
   ]
  },
  {
   "cell_type": "code",
   "execution_count": 4,
   "metadata": {
    "colab": {
     "autoexec": {
      "startup": false,
      "wait_interval": 0
     }
    },
    "colab_type": "code",
    "id": "QKlka9hQ6AlK"
   },
   "outputs": [],
   "source": [
    "import pandas as pd\n",
    "\n",
    "from IPython.display import Image\n",
    "\n",
    "import pydotplus\n",
    "\n",
    "import numpy as np\n",
    "import matplotlib.pyplot as plt"
   ]
  },
  {
   "cell_type": "code",
   "execution_count": null,
   "metadata": {},
   "outputs": [],
   "source": [
    "from sklearn.preprocessing import LabelEncoder\n",
    "from sklearn.tree import export_graphviz"
   ]
  },
  {
   "cell_type": "code",
   "execution_count": 68,
   "metadata": {},
   "outputs": [],
   "source": [
    "from sklearn.preprocessing import LabelEncoder\n",
    "\n",
    "from sklearn.tree import DecisionTreeClassifier\n",
    "from sklearn.ensemble import RandomForestClassifier, ExtraTreesClassifier\n",
    "\n",
    "from sklearn.model_selection import train_test_split, KFold\n",
    "from sklearn.metrics import accuracy_score, precision_score, recall_score, confusion_matrix, classification_report\n",
    "from sklearn.model_selection import GridSearchCV\n",
    "\n",
    "from sklearn.neighbors import KNeighborsClassifier\n",
    "\n",
    "from sklearn.ensemble import BaggingClassifier\n",
    "\n",
    "from sklearn.linear_model import LogisticRegression\n",
    "\n",
    "from sklearn.svm import SVC\n",
    "\n",
    "from sklearn.model_selection import cross_val_score, StratifiedKFold\n",
    "\n",
    "from sklearn.preprocessing import OneHotEncoder\n",
    "from sklearn.pipeline import make_pipeline"
   ]
  },
  {
   "cell_type": "code",
   "execution_count": 15,
   "metadata": {},
   "outputs": [],
   "source": [
    "from sklearn.neighbors import KNeighborsClassifier"
   ]
  },
  {
   "cell_type": "markdown",
   "metadata": {
    "colab_type": "text",
    "id": "H69r0Pry5-ri"
   },
   "source": [
    "## 1. Preparación de los datos\n",
    "\n",
    "El [dataset de evaluación de autos](https://archive.ics.uci.edu/ml/machine-learning-databases/car/) está en la carpeta datasets. Ya debería estar familiarizado con el mismo.\n",
    "\n",
    "1. Leer los datos en un dataframe de pandas\n",
    "- Codificar adecuadamente los features categóricos: definir un mapeo que preserve el orden (asignando números más pequeños a palabras que indiquen cantidades más pequeñas)\n",
    "- Separar los features de la variable objetivo en X e y"
   ]
  },
  {
   "cell_type": "code",
   "execution_count": 6,
   "metadata": {
    "colab": {
     "autoexec": {
      "startup": false,
      "wait_interval": 0
     }
    },
    "colab_type": "code",
    "id": "b-2YH5tZ5-rj"
   },
   "outputs": [
    {
     "data": {
      "text/html": [
       "<div>\n",
       "<style scoped>\n",
       "    .dataframe tbody tr th:only-of-type {\n",
       "        vertical-align: middle;\n",
       "    }\n",
       "\n",
       "    .dataframe tbody tr th {\n",
       "        vertical-align: top;\n",
       "    }\n",
       "\n",
       "    .dataframe thead th {\n",
       "        text-align: right;\n",
       "    }\n",
       "</style>\n",
       "<table border=\"1\" class=\"dataframe\">\n",
       "  <thead>\n",
       "    <tr style=\"text-align: right;\">\n",
       "      <th></th>\n",
       "      <th>buying</th>\n",
       "      <th>maint</th>\n",
       "      <th>doors</th>\n",
       "      <th>persons</th>\n",
       "      <th>lug_boot</th>\n",
       "      <th>safety</th>\n",
       "      <th>acceptability</th>\n",
       "    </tr>\n",
       "  </thead>\n",
       "  <tbody>\n",
       "    <tr>\n",
       "      <th>0</th>\n",
       "      <td>vhigh</td>\n",
       "      <td>vhigh</td>\n",
       "      <td>2</td>\n",
       "      <td>2</td>\n",
       "      <td>small</td>\n",
       "      <td>low</td>\n",
       "      <td>unacc</td>\n",
       "    </tr>\n",
       "    <tr>\n",
       "      <th>1</th>\n",
       "      <td>vhigh</td>\n",
       "      <td>vhigh</td>\n",
       "      <td>2</td>\n",
       "      <td>2</td>\n",
       "      <td>small</td>\n",
       "      <td>med</td>\n",
       "      <td>unacc</td>\n",
       "    </tr>\n",
       "    <tr>\n",
       "      <th>2</th>\n",
       "      <td>vhigh</td>\n",
       "      <td>vhigh</td>\n",
       "      <td>2</td>\n",
       "      <td>2</td>\n",
       "      <td>small</td>\n",
       "      <td>high</td>\n",
       "      <td>unacc</td>\n",
       "    </tr>\n",
       "    <tr>\n",
       "      <th>3</th>\n",
       "      <td>vhigh</td>\n",
       "      <td>vhigh</td>\n",
       "      <td>2</td>\n",
       "      <td>2</td>\n",
       "      <td>med</td>\n",
       "      <td>low</td>\n",
       "      <td>unacc</td>\n",
       "    </tr>\n",
       "    <tr>\n",
       "      <th>4</th>\n",
       "      <td>vhigh</td>\n",
       "      <td>vhigh</td>\n",
       "      <td>2</td>\n",
       "      <td>2</td>\n",
       "      <td>med</td>\n",
       "      <td>med</td>\n",
       "      <td>unacc</td>\n",
       "    </tr>\n",
       "  </tbody>\n",
       "</table>\n",
       "</div>"
      ],
      "text/plain": [
       "  buying  maint doors persons lug_boot safety acceptability\n",
       "0  vhigh  vhigh     2       2    small    low         unacc\n",
       "1  vhigh  vhigh     2       2    small    med         unacc\n",
       "2  vhigh  vhigh     2       2    small   high         unacc\n",
       "3  vhigh  vhigh     2       2      med    low         unacc\n",
       "4  vhigh  vhigh     2       2      med    med         unacc"
      ]
     },
     "execution_count": 6,
     "metadata": {},
     "output_type": "execute_result"
    }
   ],
   "source": [
    "df = pd.read_csv('car.csv') # Revisar el path\n",
    "df.head()"
   ]
  },
  {
   "cell_type": "code",
   "execution_count": 7,
   "metadata": {},
   "outputs": [
    {
     "name": "stdout",
     "output_type": "stream",
     "text": [
      "['vhigh' 'high' 'med' 'low']\n",
      "['vhigh' 'high' 'med' 'low']\n",
      "['small' 'med' 'big']\n",
      "['low' 'med' 'high']\n",
      "['unacc' 'acc' 'vgood' 'good']\n",
      "['2' '4' 'more']\n",
      "['2' '3' '4' '5more']\n"
     ]
    }
   ],
   "source": [
    "print (df.buying.unique())\n",
    "print (df.maint.unique())\n",
    "print (df.lug_boot.unique())\n",
    "print (df.safety.unique())\n",
    "print (df.acceptability.unique())\n",
    "print (df.persons.unique())\n",
    "print (df.doors.unique())"
   ]
  },
  {
   "cell_type": "code",
   "execution_count": 8,
   "metadata": {},
   "outputs": [],
   "source": [
    "map1 = {'low':1,\n",
    "        'med':2,\n",
    "        'high':3,\n",
    "        'vhigh':4}\n",
    "map2 = {'small':1,\n",
    "        'med':2,\n",
    "        'big':3}\n",
    "map3 = {'unacc':1,\n",
    "        'acc':2,\n",
    "        'good':3,\n",
    "        'vgood':4}\n",
    "map4 = {'2': 2,\n",
    "        '4': 4,\n",
    "        'more': 5}\n",
    "map5 = {'2': 2,\n",
    "        '3': 3,\n",
    "        '4': 4,\n",
    "        '5more': 5}"
   ]
  },
  {
   "cell_type": "code",
   "execution_count": 9,
   "metadata": {},
   "outputs": [
    {
     "data": {
      "text/html": [
       "<div>\n",
       "<style scoped>\n",
       "    .dataframe tbody tr th:only-of-type {\n",
       "        vertical-align: middle;\n",
       "    }\n",
       "\n",
       "    .dataframe tbody tr th {\n",
       "        vertical-align: top;\n",
       "    }\n",
       "\n",
       "    .dataframe thead th {\n",
       "        text-align: right;\n",
       "    }\n",
       "</style>\n",
       "<table border=\"1\" class=\"dataframe\">\n",
       "  <thead>\n",
       "    <tr style=\"text-align: right;\">\n",
       "      <th></th>\n",
       "      <th>buying</th>\n",
       "      <th>maint</th>\n",
       "      <th>doors</th>\n",
       "      <th>persons</th>\n",
       "      <th>lug_boot</th>\n",
       "      <th>safety</th>\n",
       "    </tr>\n",
       "  </thead>\n",
       "  <tbody>\n",
       "    <tr>\n",
       "      <th>0</th>\n",
       "      <td>4</td>\n",
       "      <td>4</td>\n",
       "      <td>2</td>\n",
       "      <td>2</td>\n",
       "      <td>1</td>\n",
       "      <td>1</td>\n",
       "    </tr>\n",
       "    <tr>\n",
       "      <th>1</th>\n",
       "      <td>4</td>\n",
       "      <td>4</td>\n",
       "      <td>2</td>\n",
       "      <td>2</td>\n",
       "      <td>1</td>\n",
       "      <td>2</td>\n",
       "    </tr>\n",
       "    <tr>\n",
       "      <th>2</th>\n",
       "      <td>4</td>\n",
       "      <td>4</td>\n",
       "      <td>2</td>\n",
       "      <td>2</td>\n",
       "      <td>1</td>\n",
       "      <td>3</td>\n",
       "    </tr>\n",
       "    <tr>\n",
       "      <th>3</th>\n",
       "      <td>4</td>\n",
       "      <td>4</td>\n",
       "      <td>2</td>\n",
       "      <td>2</td>\n",
       "      <td>2</td>\n",
       "      <td>1</td>\n",
       "    </tr>\n",
       "    <tr>\n",
       "      <th>4</th>\n",
       "      <td>4</td>\n",
       "      <td>4</td>\n",
       "      <td>2</td>\n",
       "      <td>2</td>\n",
       "      <td>2</td>\n",
       "      <td>2</td>\n",
       "    </tr>\n",
       "  </tbody>\n",
       "</table>\n",
       "</div>"
      ],
      "text/plain": [
       "   buying  maint  doors  persons  lug_boot  safety\n",
       "0       4      4      2        2         1       1\n",
       "1       4      4      2        2         1       2\n",
       "2       4      4      2        2         1       3\n",
       "3       4      4      2        2         2       1\n",
       "4       4      4      2        2         2       2"
      ]
     },
     "execution_count": 9,
     "metadata": {},
     "output_type": "execute_result"
    }
   ],
   "source": [
    "features = [c for c in df.columns if c != 'acceptability']\n",
    "dfn = df.copy()\n",
    "\n",
    "dfn.buying= df.buying.map(map1)\n",
    "dfn.maint= df.maint.map(map1)\n",
    "dfn.lug_boot = df.lug_boot.map(map2)\n",
    "dfn.persons = df.persons.map(map4)\n",
    "dfn.doors = df.doors.map(map5)\n",
    "dfn.safety = df.safety.map(map1)\n",
    "dfn.acceptability = df.acceptability.map(map3)\n",
    "\n",
    "X = dfn[features]\n",
    "y = dfn['acceptability']\n",
    "X.head()"
   ]
  },
  {
   "cell_type": "code",
   "execution_count": 10,
   "metadata": {},
   "outputs": [
    {
     "name": "stdout",
     "output_type": "stream",
     "text": [
      "<class 'pandas.core.frame.DataFrame'>\n",
      "RangeIndex: 1728 entries, 0 to 1727\n",
      "Data columns (total 7 columns):\n",
      "buying           1728 non-null int64\n",
      "maint            1728 non-null int64\n",
      "doors            1728 non-null int64\n",
      "persons          1728 non-null int64\n",
      "lug_boot         1728 non-null int64\n",
      "safety           1728 non-null int64\n",
      "acceptability    1728 non-null int64\n",
      "dtypes: int64(7)\n",
      "memory usage: 94.6 KB\n"
     ]
    }
   ],
   "source": [
    "dfn.info()"
   ]
  },
  {
   "cell_type": "markdown",
   "metadata": {
    "colab_type": "text",
    "id": "1_uzlJhO5-ro"
   },
   "source": [
    "## 2. Preparación útil\n",
    "\n",
    "Dado que vamos a comparar varios modelos, resulta conveniente  escribir funciones auxiliares.\n",
    "\n",
    "1. Separar X e y entre entrenamiento / prueba, usando el 30% como set de prueba, y asignando `random_state=42`\n",
    "    - Asegurar de que los datos son mezclados y estratificados\n",
    "2. Definir una función llamada `evaluate_model`, que entrene el modelo con el set de entrenamiento y lo evalué con el set de prueba. Y que calcule:\n",
    "    - accuracy score\n",
    "    - confusion matrix\n",
    "    - classification report\n",
    "3. Inicializar un diccionario global para almacenar los distintos modelos, para su posterior uso.\n"
   ]
  },
  {
   "cell_type": "code",
   "execution_count": 12,
   "metadata": {
    "colab": {
     "autoexec": {
      "startup": false,
      "wait_interval": 0
     }
    },
    "colab_type": "code",
    "id": "xA7QQN2L5-rp"
   },
   "outputs": [],
   "source": [
    "X_train, X_test, y_train, y_test = train_test_split(X, y, test_size=0.3, random_state=42, stratify=y)"
   ]
  },
  {
   "cell_type": "code",
   "execution_count": 13,
   "metadata": {},
   "outputs": [],
   "source": [
    "def evaluate_model(model):\n",
    "    model.fit(X_train, y_train)\n",
    "    y_pred = model.predict(X_test)\n",
    "    \n",
    "    a = accuracy_score(y_test, y_pred)\n",
    "    \n",
    "    cm = confusion_matrix(y_test, y_pred)\n",
    "    cr = classification_report(y_test, y_pred)\n",
    "    \n",
    "    print (cm)\n",
    "    print (cr)\n",
    "    \n",
    "    return a"
   ]
  },
  {
   "cell_type": "code",
   "execution_count": 14,
   "metadata": {},
   "outputs": [],
   "source": [
    "all_models = {}"
   ]
  },
  {
   "cell_type": "markdown",
   "metadata": {
    "colab_type": "text",
    "id": "PL-15ajW5-rs"
   },
   "source": [
    "## 3.a KNN\n",
    "\n",
    "Comenzar con `KNeighborsClassifier`.\n",
    "\n",
    "1. Inicializar un modelo KNN\n",
    "- Evaluar su rendimiento con la función definida previamente\n",
    "- Buscar el valor óptimo de K mediante Grid Search\n",
    "    - Tener cuidado en cómo realizar la validación cruzada en Grid Search"
   ]
  },
  {
   "cell_type": "code",
   "execution_count": 16,
   "metadata": {
    "colab": {
     "autoexec": {
      "startup": false,
      "wait_interval": 0
     }
    },
    "colab_type": "code",
    "id": "Wf-96RHL5-rs"
   },
   "outputs": [
    {
     "name": "stdout",
     "output_type": "stream",
     "text": [
      "[[354   9   0   0]\n",
      " [  8 107   0   0]\n",
      " [  0   9  11   1]\n",
      " [  0   2   0  18]]\n",
      "             precision    recall  f1-score   support\n",
      "\n",
      "          1       0.98      0.98      0.98       363\n",
      "          2       0.84      0.93      0.88       115\n",
      "          3       1.00      0.52      0.69        21\n",
      "          4       0.95      0.90      0.92        20\n",
      "\n",
      "avg / total       0.95      0.94      0.94       519\n",
      "\n"
     ]
    }
   ],
   "source": [
    "a = evaluate_model(KNeighborsClassifier())"
   ]
  },
  {
   "cell_type": "code",
   "execution_count": 19,
   "metadata": {},
   "outputs": [],
   "source": [
    "params = {'n_neighbors': range(2,60)}\n",
    "gsknn = GridSearchCV(KNeighborsClassifier(),params, n_jobs=-1,cv=KFold(n_splits=3, shuffle=True))"
   ]
  },
  {
   "cell_type": "code",
   "execution_count": 20,
   "metadata": {},
   "outputs": [
    {
     "data": {
      "text/plain": [
       "GridSearchCV(cv=KFold(n_splits=3, random_state=None, shuffle=True),\n",
       "       error_score='raise',\n",
       "       estimator=KNeighborsClassifier(algorithm='auto', leaf_size=30, metric='minkowski',\n",
       "           metric_params=None, n_jobs=1, n_neighbors=5, p=2,\n",
       "           weights='uniform'),\n",
       "       fit_params=None, iid=True, n_jobs=-1,\n",
       "       param_grid={'n_neighbors': range(2, 60)}, pre_dispatch='2*n_jobs',\n",
       "       refit=True, return_train_score='warn', scoring=None, verbose=0)"
      ]
     },
     "execution_count": 20,
     "metadata": {},
     "output_type": "execute_result"
    }
   ],
   "source": [
    "gsknn.fit(X, y)"
   ]
  },
  {
   "cell_type": "code",
   "execution_count": 21,
   "metadata": {},
   "outputs": [
    {
     "data": {
      "text/plain": [
       "{'n_neighbors': 5}"
      ]
     },
     "execution_count": 21,
     "metadata": {},
     "output_type": "execute_result"
    }
   ],
   "source": [
    "gsknn.best_params_"
   ]
  },
  {
   "cell_type": "code",
   "execution_count": 22,
   "metadata": {},
   "outputs": [
    {
     "data": {
      "text/plain": [
       "0.95601851851851849"
      ]
     },
     "execution_count": 22,
     "metadata": {},
     "output_type": "execute_result"
    }
   ],
   "source": [
    "gsknn.best_score_"
   ]
  },
  {
   "cell_type": "code",
   "execution_count": 23,
   "metadata": {},
   "outputs": [
    {
     "name": "stdout",
     "output_type": "stream",
     "text": [
      "[[354   9   0   0]\n",
      " [  8 107   0   0]\n",
      " [  0   9  11   1]\n",
      " [  0   2   0  18]]\n",
      "             precision    recall  f1-score   support\n",
      "\n",
      "          1       0.98      0.98      0.98       363\n",
      "          2       0.84      0.93      0.88       115\n",
      "          3       1.00      0.52      0.69        21\n",
      "          4       0.95      0.90      0.92        20\n",
      "\n",
      "avg / total       0.95      0.94      0.94       519\n",
      "\n"
     ]
    },
    {
     "data": {
      "text/plain": [
       "0.94412331406551064"
      ]
     },
     "execution_count": 23,
     "metadata": {},
     "output_type": "execute_result"
    }
   ],
   "source": [
    "evaluate_model(gsknn.best_estimator_)"
   ]
  },
  {
   "cell_type": "code",
   "execution_count": 24,
   "metadata": {},
   "outputs": [],
   "source": [
    "all_models['knn'] = {'model': gsknn.best_estimator_,\n",
    "                     'score': gsknn.best_score_}"
   ]
  },
  {
   "cell_type": "markdown",
   "metadata": {
    "colab_type": "text",
    "id": "rmYm9Vck5-rv"
   },
   "source": [
    "## 3.b Bagging + KNN\n",
    "\n",
    "Habiendo encontrado el K óptimo, vamos a meter `KNeighborsClassifier` en un BaggingClassifier y ver si la puntuación mejora.\n",
    "\n",
    "1. Usar el modelo KNN en un Bagging Classifier\n",
    "- Evaluar el rendimiento\n",
    "- Hacer un Grid Search sólo en los parámetros del Bagging Classifier"
   ]
  },
  {
   "cell_type": "code",
   "execution_count": 27,
   "metadata": {
    "colab": {
     "autoexec": {
      "startup": false,
      "wait_interval": 0
     }
    },
    "colab_type": "code",
    "id": "ikxLk0DH5-rw"
   },
   "outputs": [],
   "source": [
    "baggingknn = BaggingClassifier(KNeighborsClassifier())"
   ]
  },
  {
   "cell_type": "code",
   "execution_count": 28,
   "metadata": {},
   "outputs": [
    {
     "name": "stdout",
     "output_type": "stream",
     "text": [
      "[[358   5   0   0]\n",
      " [  8 106   1   0]\n",
      " [  0   5  15   1]\n",
      " [  0   4   0  16]]\n",
      "             precision    recall  f1-score   support\n",
      "\n",
      "          1       0.98      0.99      0.98       363\n",
      "          2       0.88      0.92      0.90       115\n",
      "          3       0.94      0.71      0.81        21\n",
      "          4       0.94      0.80      0.86        20\n",
      "\n",
      "avg / total       0.95      0.95      0.95       519\n",
      "\n"
     ]
    },
    {
     "data": {
      "text/plain": [
       "0.95375722543352603"
      ]
     },
     "execution_count": 28,
     "metadata": {},
     "output_type": "execute_result"
    }
   ],
   "source": [
    "evaluate_model(baggingknn)"
   ]
  },
  {
   "cell_type": "code",
   "execution_count": 29,
   "metadata": {},
   "outputs": [],
   "source": [
    "bagging_params = {'n_estimators': [10, 20],\n",
    "                  'max_samples': [0.7, 1.0],\n",
    "                  'max_features': [0.7, 1.0],\n",
    "                  'bootstrap_features': [True, False]}"
   ]
  },
  {
   "cell_type": "code",
   "execution_count": 30,
   "metadata": {},
   "outputs": [],
   "source": [
    "gsbaggingknn = GridSearchCV(baggingknn,\n",
    "                            bagging_params, n_jobs=-1,\n",
    "                            cv=KFold(n_splits=3, shuffle=True))"
   ]
  },
  {
   "cell_type": "code",
   "execution_count": 31,
   "metadata": {},
   "outputs": [
    {
     "data": {
      "text/plain": [
       "GridSearchCV(cv=KFold(n_splits=3, random_state=None, shuffle=True),\n",
       "       error_score='raise',\n",
       "       estimator=BaggingClassifier(base_estimator=KNeighborsClassifier(algorithm='auto', leaf_size=30, metric='minkowski',\n",
       "           metric_params=None, n_jobs=1, n_neighbors=5, p=2,\n",
       "           weights='uniform'),\n",
       "         bootstrap=True, bootstrap_features=False, max_features=1.0,\n",
       "         max_samples=1.0, n_estimators=10, n_jobs=1, oob_score=False,\n",
       "         random_state=None, verbose=0, warm_start=False),\n",
       "       fit_params=None, iid=True, n_jobs=-1,\n",
       "       param_grid={'n_estimators': [10, 20], 'max_samples': [0.7, 1.0], 'max_features': [0.7, 1.0], 'bootstrap_features': [True, False]},\n",
       "       pre_dispatch='2*n_jobs', refit=True, return_train_score='warn',\n",
       "       scoring=None, verbose=0)"
      ]
     },
     "execution_count": 31,
     "metadata": {},
     "output_type": "execute_result"
    }
   ],
   "source": [
    "gsbaggingknn.fit(X, y)"
   ]
  },
  {
   "cell_type": "code",
   "execution_count": 32,
   "metadata": {},
   "outputs": [
    {
     "data": {
      "text/plain": [
       "{'bootstrap_features': False,\n",
       " 'max_features': 1.0,\n",
       " 'max_samples': 1.0,\n",
       " 'n_estimators': 20}"
      ]
     },
     "execution_count": 32,
     "metadata": {},
     "output_type": "execute_result"
    }
   ],
   "source": [
    "gsbaggingknn.best_params_"
   ]
  },
  {
   "cell_type": "code",
   "execution_count": 33,
   "metadata": {},
   "outputs": [
    {
     "name": "stdout",
     "output_type": "stream",
     "text": [
      "[[358   5   0   0]\n",
      " [  6 108   1   0]\n",
      " [  0   8  12   1]\n",
      " [  0   4   0  16]]\n",
      "             precision    recall  f1-score   support\n",
      "\n",
      "          1       0.98      0.99      0.98       363\n",
      "          2       0.86      0.94      0.90       115\n",
      "          3       0.92      0.57      0.71        21\n",
      "          4       0.94      0.80      0.86        20\n",
      "\n",
      "avg / total       0.95      0.95      0.95       519\n",
      "\n"
     ]
    }
   ],
   "source": [
    "all_models['gsbaggingknn'] = {'model': gsbaggingknn.best_estimator_,\n",
    "                              'score': evaluate_model(gsbaggingknn.best_estimator_)}"
   ]
  },
  {
   "cell_type": "code",
   "execution_count": 34,
   "metadata": {},
   "outputs": [
    {
     "data": {
      "text/plain": [
       "{'gsbaggingknn': {'model': BaggingClassifier(base_estimator=KNeighborsClassifier(algorithm='auto', leaf_size=30, metric='minkowski',\n",
       "             metric_params=None, n_jobs=1, n_neighbors=5, p=2,\n",
       "             weights='uniform'),\n",
       "           bootstrap=True, bootstrap_features=False, max_features=1.0,\n",
       "           max_samples=1.0, n_estimators=20, n_jobs=1, oob_score=False,\n",
       "           random_state=None, verbose=0, warm_start=False),\n",
       "  'score': 0.95183044315992293},\n",
       " 'knn': {'model': KNeighborsClassifier(algorithm='auto', leaf_size=30, metric='minkowski',\n",
       "             metric_params=None, n_jobs=1, n_neighbors=5, p=2,\n",
       "             weights='uniform'), 'score': 0.95601851851851849}}"
      ]
     },
     "execution_count": 34,
     "metadata": {},
     "output_type": "execute_result"
    }
   ],
   "source": [
    "all_models"
   ]
  },
  {
   "cell_type": "markdown",
   "metadata": {
    "colab_type": "text",
    "id": "7d_UwDNC5-ry"
   },
   "source": [
    "## 4. Regresión Logística\n",
    "\n",
    "Ahora veamos si la regresión logística funciona mejor\n",
    "\n",
    "1. Inicializar una Regresión Logística y evaluarla\n",
    "- Buscar los parámetros óptimos con Grid Search\n",
    "- Ver si Bagging mejora el resultado"
   ]
  },
  {
   "cell_type": "code",
   "execution_count": 36,
   "metadata": {},
   "outputs": [],
   "source": [
    "lr = LogisticRegression()"
   ]
  },
  {
   "cell_type": "code",
   "execution_count": 37,
   "metadata": {
    "colab": {
     "autoexec": {
      "startup": false,
      "wait_interval": 0
     }
    },
    "colab_type": "code",
    "id": "KioYLA155-rz"
   },
   "outputs": [
    {
     "name": "stdout",
     "output_type": "stream",
     "text": [
      "[[347  11   4   1]\n",
      " [ 59  53   3   0]\n",
      " [  5  15   1   0]\n",
      " [  0  19   0   1]]\n",
      "             precision    recall  f1-score   support\n",
      "\n",
      "          1       0.84      0.96      0.90       363\n",
      "          2       0.54      0.46      0.50       115\n",
      "          3       0.12      0.05      0.07        21\n",
      "          4       0.50      0.05      0.09        20\n",
      "\n",
      "avg / total       0.73      0.77      0.74       519\n",
      "\n"
     ]
    }
   ],
   "source": [
    "all_models['lr'] = {'model': lr,\n",
    "                    'score': evaluate_model(lr)}"
   ]
  },
  {
   "cell_type": "code",
   "execution_count": 38,
   "metadata": {},
   "outputs": [],
   "source": [
    "params = {'C': [0.001, 0.01, 0.1, 1.0, 10.0, 100.0],\n",
    "          'penalty': ['l1', 'l2']}"
   ]
  },
  {
   "cell_type": "code",
   "execution_count": 39,
   "metadata": {},
   "outputs": [
    {
     "name": "stdout",
     "output_type": "stream",
     "text": [
      "{'C': 10.0, 'penalty': 'l1'}\n",
      "0.829861111111\n",
      "[[344  14   4   1]\n",
      " [ 48  64   3   0]\n",
      " [  4  14   2   1]\n",
      " [  0   9   0  11]]\n",
      "             precision    recall  f1-score   support\n",
      "\n",
      "          1       0.87      0.95      0.91       363\n",
      "          2       0.63      0.56      0.59       115\n",
      "          3       0.22      0.10      0.13        21\n",
      "          4       0.85      0.55      0.67        20\n",
      "\n",
      "avg / total       0.79      0.81      0.80       519\n",
      "\n"
     ]
    }
   ],
   "source": [
    "gslr = GridSearchCV(lr,\n",
    "                    params, n_jobs=-1,\n",
    "                    cv=KFold(n_splits=3, shuffle=True))\n",
    "\n",
    "gslr.fit(X, y)\n",
    "\n",
    "print (gslr.best_params_)\n",
    "print (gslr.best_score_)\n",
    "\n",
    "all_models['gslr'] = {'model': gslr.best_estimator_,\n",
    "                             'score': evaluate_model(gslr.best_estimator_)}"
   ]
  },
  {
   "cell_type": "code",
   "execution_count": 40,
   "metadata": {},
   "outputs": [
    {
     "data": {
      "text/plain": [
       "{'gsbaggingknn': {'model': BaggingClassifier(base_estimator=KNeighborsClassifier(algorithm='auto', leaf_size=30, metric='minkowski',\n",
       "             metric_params=None, n_jobs=1, n_neighbors=5, p=2,\n",
       "             weights='uniform'),\n",
       "           bootstrap=True, bootstrap_features=False, max_features=1.0,\n",
       "           max_samples=1.0, n_estimators=20, n_jobs=1, oob_score=False,\n",
       "           random_state=None, verbose=0, warm_start=False),\n",
       "  'score': 0.95183044315992293},\n",
       " 'gslr': {'model': LogisticRegression(C=10.0, class_weight=None, dual=False, fit_intercept=True,\n",
       "            intercept_scaling=1, max_iter=100, multi_class='ovr', n_jobs=1,\n",
       "            penalty='l1', random_state=None, solver='liblinear', tol=0.0001,\n",
       "            verbose=0, warm_start=False), 'score': 0.81117533718689783},\n",
       " 'knn': {'model': KNeighborsClassifier(algorithm='auto', leaf_size=30, metric='minkowski',\n",
       "             metric_params=None, n_jobs=1, n_neighbors=5, p=2,\n",
       "             weights='uniform'), 'score': 0.95601851851851849},\n",
       " 'lr': {'model': LogisticRegression(C=1.0, class_weight=None, dual=False, fit_intercept=True,\n",
       "            intercept_scaling=1, max_iter=100, multi_class='ovr', n_jobs=1,\n",
       "            penalty='l2', random_state=None, solver='liblinear', tol=0.0001,\n",
       "            verbose=0, warm_start=False), 'score': 0.77456647398843925}}"
      ]
     },
     "execution_count": 40,
     "metadata": {},
     "output_type": "execute_result"
    }
   ],
   "source": [
    "all_models"
   ]
  },
  {
   "cell_type": "code",
   "execution_count": 41,
   "metadata": {},
   "outputs": [
    {
     "name": "stdout",
     "output_type": "stream",
     "text": [
      "{'bootstrap_features': False, 'max_features': 1.0, 'max_samples': 1.0, 'n_estimators': 20}\n",
      "0.829861111111\n",
      "[[344  14   4   1]\n",
      " [ 51  61   3   0]\n",
      " [  3  15   2   1]\n",
      " [  0   8   0  12]]\n",
      "             precision    recall  f1-score   support\n",
      "\n",
      "          1       0.86      0.95      0.90       363\n",
      "          2       0.62      0.53      0.57       115\n",
      "          3       0.22      0.10      0.13        21\n",
      "          4       0.86      0.60      0.71        20\n",
      "\n",
      "avg / total       0.78      0.81      0.79       519\n",
      "\n"
     ]
    }
   ],
   "source": [
    "gsbagginglr = GridSearchCV(BaggingClassifier(gslr.best_estimator_),\n",
    "                           bagging_params, n_jobs=-1,\n",
    "                           cv=KFold(n_splits=3, shuffle=True))\n",
    "\n",
    "gsbagginglr.fit(X, y)\n",
    "\n",
    "print (gsbagginglr.best_params_)\n",
    "print (gsbagginglr.best_score_)\n",
    "\n",
    "all_models['gsbagginglr'] = {'model': gsbagginglr.best_estimator_,\n",
    "                             'score': evaluate_model(gsbagginglr.best_estimator_)}"
   ]
  },
  {
   "cell_type": "code",
   "execution_count": 42,
   "metadata": {},
   "outputs": [
    {
     "data": {
      "text/plain": [
       "{'gsbaggingknn': {'model': BaggingClassifier(base_estimator=KNeighborsClassifier(algorithm='auto', leaf_size=30, metric='minkowski',\n",
       "             metric_params=None, n_jobs=1, n_neighbors=5, p=2,\n",
       "             weights='uniform'),\n",
       "           bootstrap=True, bootstrap_features=False, max_features=1.0,\n",
       "           max_samples=1.0, n_estimators=20, n_jobs=1, oob_score=False,\n",
       "           random_state=None, verbose=0, warm_start=False),\n",
       "  'score': 0.95183044315992293},\n",
       " 'gsbagginglr': {'model': BaggingClassifier(base_estimator=LogisticRegression(C=10.0, class_weight=None, dual=False, fit_intercept=True,\n",
       "            intercept_scaling=1, max_iter=100, multi_class='ovr', n_jobs=1,\n",
       "            penalty='l1', random_state=None, solver='liblinear', tol=0.0001,\n",
       "            verbose=0, warm_start=False),\n",
       "           bootstrap=True, bootstrap_features=False, max_features=1.0,\n",
       "           max_samples=1.0, n_estimators=20, n_jobs=1, oob_score=False,\n",
       "           random_state=None, verbose=0, warm_start=False),\n",
       "  'score': 0.80732177263969174},\n",
       " 'gslr': {'model': LogisticRegression(C=10.0, class_weight=None, dual=False, fit_intercept=True,\n",
       "            intercept_scaling=1, max_iter=100, multi_class='ovr', n_jobs=1,\n",
       "            penalty='l1', random_state=None, solver='liblinear', tol=0.0001,\n",
       "            verbose=0, warm_start=False), 'score': 0.81117533718689783},\n",
       " 'knn': {'model': KNeighborsClassifier(algorithm='auto', leaf_size=30, metric='minkowski',\n",
       "             metric_params=None, n_jobs=1, n_neighbors=5, p=2,\n",
       "             weights='uniform'), 'score': 0.95601851851851849},\n",
       " 'lr': {'model': LogisticRegression(C=1.0, class_weight=None, dual=False, fit_intercept=True,\n",
       "            intercept_scaling=1, max_iter=100, multi_class='ovr', n_jobs=1,\n",
       "            penalty='l2', random_state=None, solver='liblinear', tol=0.0001,\n",
       "            verbose=0, warm_start=False), 'score': 0.77456647398843925}}"
      ]
     },
     "execution_count": 42,
     "metadata": {},
     "output_type": "execute_result"
    }
   ],
   "source": [
    "all_models"
   ]
  },
  {
   "cell_type": "markdown",
   "metadata": {
    "colab_type": "text",
    "id": "SsCghfSe5-r1"
   },
   "source": [
    "## 5. Árboles de decisión\n",
    "\n",
    "Comprobemos como rinden los Árboles de Decisión\n",
    "\n",
    "1. Inicializar un árbol de decisión y evaluarlo\n",
    "- Buscar los parámetros óptimos con Grid Search\n",
    "- Ver si Bagging mejora el resultado"
   ]
  },
  {
   "cell_type": "code",
   "execution_count": 43,
   "metadata": {},
   "outputs": [],
   "source": [
    "dt = DecisionTreeClassifier()"
   ]
  },
  {
   "cell_type": "code",
   "execution_count": 44,
   "metadata": {
    "colab": {
     "autoexec": {
      "startup": false,
      "wait_interval": 0
     }
    },
    "colab_type": "code",
    "id": "T2A2n0aL5-r2"
   },
   "outputs": [
    {
     "name": "stdout",
     "output_type": "stream",
     "text": [
      "[[360   3   0   0]\n",
      " [ 11 103   1   0]\n",
      " [  1   2  18   0]\n",
      " [  0   1   0  19]]\n",
      "             precision    recall  f1-score   support\n",
      "\n",
      "          1       0.97      0.99      0.98       363\n",
      "          2       0.94      0.90      0.92       115\n",
      "          3       0.95      0.86      0.90        21\n",
      "          4       1.00      0.95      0.97        20\n",
      "\n",
      "avg / total       0.96      0.96      0.96       519\n",
      "\n"
     ]
    }
   ],
   "source": [
    "all_models['dt'] = {'model': dt,\n",
    "                    'score': evaluate_model(dt)}"
   ]
  },
  {
   "cell_type": "code",
   "execution_count": 45,
   "metadata": {},
   "outputs": [
    {
     "name": "stdout",
     "output_type": "stream",
     "text": [
      "{'criterion': 'gini', 'max_depth': None, 'min_samples_leaf': 1, 'min_samples_split': 2, 'splitter': 'best'}\n",
      "0.97974537037\n"
     ]
    }
   ],
   "source": [
    "params = {'criterion': ['gini', 'entropy'],\n",
    "          'splitter': ['best', 'random'],\n",
    "          'max_depth': [None, 5, 10],\n",
    "          'min_samples_split': [2, 5],\n",
    "          'min_samples_leaf': [1, 2, 3]}\n",
    "\n",
    "gsdt = GridSearchCV(dt,\n",
    "                    params, n_jobs=-1,\n",
    "                    cv=KFold(n_splits=3, shuffle=True))\n",
    "\n",
    "gsdt.fit(X, y)\n",
    "print (gsdt.best_params_)\n",
    "print (gsdt.best_score_)"
   ]
  },
  {
   "cell_type": "code",
   "execution_count": 46,
   "metadata": {},
   "outputs": [
    {
     "name": "stdout",
     "output_type": "stream",
     "text": [
      "[[360   3   0   0]\n",
      " [ 11 103   1   0]\n",
      " [  1   2  18   0]\n",
      " [  0   1   0  19]]\n",
      "             precision    recall  f1-score   support\n",
      "\n",
      "          1       0.97      0.99      0.98       363\n",
      "          2       0.94      0.90      0.92       115\n",
      "          3       0.95      0.86      0.90        21\n",
      "          4       1.00      0.95      0.97        20\n",
      "\n",
      "avg / total       0.96      0.96      0.96       519\n",
      "\n"
     ]
    }
   ],
   "source": [
    "all_models['gsdt'] = {'model': gsdt.best_estimator_,\n",
    "                      'score': evaluate_model(gsdt.best_estimator_)}"
   ]
  },
  {
   "cell_type": "code",
   "execution_count": 47,
   "metadata": {},
   "outputs": [
    {
     "name": "stdout",
     "output_type": "stream",
     "text": [
      "{'bootstrap_features': False, 'max_features': 1.0, 'max_samples': 1.0, 'n_estimators': 10}\n",
      "0.97974537037\n",
      "[[362   1   0   0]\n",
      " [  8 106   0   1]\n",
      " [  0   4  17   0]\n",
      " [  0   2   0  18]]\n",
      "             precision    recall  f1-score   support\n",
      "\n",
      "          1       0.98      1.00      0.99       363\n",
      "          2       0.94      0.92      0.93       115\n",
      "          3       1.00      0.81      0.89        21\n",
      "          4       0.95      0.90      0.92        20\n",
      "\n",
      "avg / total       0.97      0.97      0.97       519\n",
      "\n"
     ]
    }
   ],
   "source": [
    "gsbaggingdt = GridSearchCV(BaggingClassifier(gsdt.best_estimator_),\n",
    "                           bagging_params, n_jobs=-1,\n",
    "                           cv=KFold(n_splits=3, shuffle=True))\n",
    "\n",
    "gsbaggingdt.fit(X, y)\n",
    "\n",
    "print (gsbaggingdt.best_params_)\n",
    "print (gsbaggingdt.best_score_)\n",
    "\n",
    "all_models['gsbaggingdt'] = {'model': gsbaggingdt.best_estimator_,\n",
    "                             'score': evaluate_model(gsbaggingdt.best_estimator_)}"
   ]
  },
  {
   "cell_type": "code",
   "execution_count": 48,
   "metadata": {},
   "outputs": [
    {
     "data": {
      "text/plain": [
       "{'dt': {'model': DecisionTreeClassifier(class_weight=None, criterion='gini', max_depth=None,\n",
       "              max_features=None, max_leaf_nodes=None,\n",
       "              min_impurity_decrease=0.0, min_impurity_split=None,\n",
       "              min_samples_leaf=1, min_samples_split=2,\n",
       "              min_weight_fraction_leaf=0.0, presort=False, random_state=None,\n",
       "              splitter='best'), 'score': 0.96339113680154143},\n",
       " 'gsbaggingdt': {'model': BaggingClassifier(base_estimator=DecisionTreeClassifier(class_weight=None, criterion='gini', max_depth=None,\n",
       "              max_features=None, max_leaf_nodes=None,\n",
       "              min_impurity_decrease=0.0, min_impurity_split=None,\n",
       "              min_samples_leaf=1, min_samples_split=2,\n",
       "              min_weight_fraction_leaf=0.0, presort=False, random_state=None,\n",
       "              splitter='best'),\n",
       "           bootstrap=True, bootstrap_features=False, max_features=1.0,\n",
       "           max_samples=1.0, n_estimators=10, n_jobs=1, oob_score=False,\n",
       "           random_state=None, verbose=0, warm_start=False),\n",
       "  'score': 0.96917148362235073},\n",
       " 'gsbaggingknn': {'model': BaggingClassifier(base_estimator=KNeighborsClassifier(algorithm='auto', leaf_size=30, metric='minkowski',\n",
       "             metric_params=None, n_jobs=1, n_neighbors=5, p=2,\n",
       "             weights='uniform'),\n",
       "           bootstrap=True, bootstrap_features=False, max_features=1.0,\n",
       "           max_samples=1.0, n_estimators=20, n_jobs=1, oob_score=False,\n",
       "           random_state=None, verbose=0, warm_start=False),\n",
       "  'score': 0.95183044315992293},\n",
       " 'gsbagginglr': {'model': BaggingClassifier(base_estimator=LogisticRegression(C=10.0, class_weight=None, dual=False, fit_intercept=True,\n",
       "            intercept_scaling=1, max_iter=100, multi_class='ovr', n_jobs=1,\n",
       "            penalty='l1', random_state=None, solver='liblinear', tol=0.0001,\n",
       "            verbose=0, warm_start=False),\n",
       "           bootstrap=True, bootstrap_features=False, max_features=1.0,\n",
       "           max_samples=1.0, n_estimators=20, n_jobs=1, oob_score=False,\n",
       "           random_state=None, verbose=0, warm_start=False),\n",
       "  'score': 0.80732177263969174},\n",
       " 'gsdt': {'model': DecisionTreeClassifier(class_weight=None, criterion='gini', max_depth=None,\n",
       "              max_features=None, max_leaf_nodes=None,\n",
       "              min_impurity_decrease=0.0, min_impurity_split=None,\n",
       "              min_samples_leaf=1, min_samples_split=2,\n",
       "              min_weight_fraction_leaf=0.0, presort=False, random_state=None,\n",
       "              splitter='best'), 'score': 0.96339113680154143},\n",
       " 'gslr': {'model': LogisticRegression(C=10.0, class_weight=None, dual=False, fit_intercept=True,\n",
       "            intercept_scaling=1, max_iter=100, multi_class='ovr', n_jobs=1,\n",
       "            penalty='l1', random_state=None, solver='liblinear', tol=0.0001,\n",
       "            verbose=0, warm_start=False), 'score': 0.81117533718689783},\n",
       " 'knn': {'model': KNeighborsClassifier(algorithm='auto', leaf_size=30, metric='minkowski',\n",
       "             metric_params=None, n_jobs=1, n_neighbors=5, p=2,\n",
       "             weights='uniform'), 'score': 0.95601851851851849},\n",
       " 'lr': {'model': LogisticRegression(C=1.0, class_weight=None, dual=False, fit_intercept=True,\n",
       "            intercept_scaling=1, max_iter=100, multi_class='ovr', n_jobs=1,\n",
       "            penalty='l2', random_state=None, solver='liblinear', tol=0.0001,\n",
       "            verbose=0, warm_start=False), 'score': 0.77456647398843925}}"
      ]
     },
     "execution_count": 48,
     "metadata": {},
     "output_type": "execute_result"
    }
   ],
   "source": [
    "all_models"
   ]
  },
  {
   "cell_type": "markdown",
   "metadata": {
    "colab_type": "text",
    "id": "XWpHCN5z5-r3"
   },
   "source": [
    "## 6. Support Vector Machines\n",
    "\n",
    "Analicemos como funciona SVM\n",
    "\n",
    "1. Inicializar un SVM y evaluarlo\n",
    "- Buscar los parámetros óptimos con Grid Search\n",
    "- Ver si Bagging mejora el resultado"
   ]
  },
  {
   "cell_type": "code",
   "execution_count": 50,
   "metadata": {
    "colab": {
     "autoexec": {
      "startup": false,
      "wait_interval": 0
     }
    },
    "colab_type": "code",
    "id": "e_Hkdmgt5-r4"
   },
   "outputs": [
    {
     "name": "stdout",
     "output_type": "stream",
     "text": [
      "[[352  11   0   0]\n",
      " [  4 110   1   0]\n",
      " [  0   5  14   2]\n",
      " [  0   1   0  19]]\n",
      "             precision    recall  f1-score   support\n",
      "\n",
      "          1       0.99      0.97      0.98       363\n",
      "          2       0.87      0.96      0.91       115\n",
      "          3       0.93      0.67      0.78        21\n",
      "          4       0.90      0.95      0.93        20\n",
      "\n",
      "avg / total       0.96      0.95      0.95       519\n",
      "\n"
     ]
    }
   ],
   "source": [
    "svm = SVC()\n",
    "all_models['svm'] = {'model': svm,\n",
    "                     'score': evaluate_model(svm)}"
   ]
  },
  {
   "cell_type": "code",
   "execution_count": 51,
   "metadata": {},
   "outputs": [
    {
     "name": "stdout",
     "output_type": "stream",
     "text": [
      "{'C': 10.0, 'gamma': 1.0, 'kernel': 'rbf'}\n",
      "0.98900462963\n",
      "[[362   1   0   0]\n",
      " [  5 110   0   0]\n",
      " [  1   3  16   1]\n",
      " [  0   1   0  19]]\n",
      "             precision    recall  f1-score   support\n",
      "\n",
      "          1       0.98      1.00      0.99       363\n",
      "          2       0.96      0.96      0.96       115\n",
      "          3       1.00      0.76      0.86        21\n",
      "          4       0.95      0.95      0.95        20\n",
      "\n",
      "avg / total       0.98      0.98      0.98       519\n",
      "\n"
     ]
    }
   ],
   "source": [
    "params = {'C': [0.01, 0.1, 1.0, 10.0, 30.0, 100.0],\n",
    "          'gamma': ['auto', 0.1, 1.0, 10.0],\n",
    "          'kernel': ['linear', 'rbf']}\n",
    "\n",
    "\n",
    "gssvm = GridSearchCV(svm,\n",
    "                    params, n_jobs=-1,\n",
    "                    cv=KFold(n_splits=3, shuffle=True))\n",
    "\n",
    "gssvm.fit(X, y)\n",
    "print (gssvm.best_params_)\n",
    "print (gssvm.best_score_)\n",
    "\n",
    "all_models['gssvm'] = {'model': gssvm.best_estimator_,\n",
    "                      'score': evaluate_model(gssvm.best_estimator_)}"
   ]
  },
  {
   "cell_type": "code",
   "execution_count": 52,
   "metadata": {},
   "outputs": [
    {
     "name": "stdout",
     "output_type": "stream",
     "text": [
      "{'bootstrap_features': False, 'max_features': 1.0, 'max_samples': 1.0, 'n_estimators': 20}\n",
      "0.978009259259\n",
      "[[362   1   0   0]\n",
      " [  6 109   0   0]\n",
      " [  0   7  13   1]\n",
      " [  0   2   0  18]]\n",
      "             precision    recall  f1-score   support\n",
      "\n",
      "          1       0.98      1.00      0.99       363\n",
      "          2       0.92      0.95      0.93       115\n",
      "          3       1.00      0.62      0.76        21\n",
      "          4       0.95      0.90      0.92        20\n",
      "\n",
      "avg / total       0.97      0.97      0.97       519\n",
      "\n"
     ]
    }
   ],
   "source": [
    "gsbaggingsvm = GridSearchCV(BaggingClassifier(gssvm.best_estimator_),\n",
    "                           bagging_params, n_jobs=-1,\n",
    "                           cv=KFold(n_splits=3, shuffle=True))\n",
    "\n",
    "gsbaggingsvm.fit(X, y)\n",
    "\n",
    "print (gsbaggingsvm.best_params_)\n",
    "print (gsbaggingsvm.best_score_)\n",
    "\n",
    "all_models['gsbaggingsvm'] = {'model': gsbaggingsvm.best_estimator_,\n",
    "                             'score': evaluate_model(gsbaggingsvm.best_estimator_)}"
   ]
  },
  {
   "cell_type": "markdown",
   "metadata": {
    "colab_type": "text",
    "id": "ygxFHgwD5-r7"
   },
   "source": [
    "## 7. Random Forest & Extra Trees\n",
    "\n",
    "Ahora veamos por último como funcionan Random Forest y Extra Trees\n",
    "\n",
    "1. Inicializar RF y ET y evaluarlos\n",
    "- Buscar los parámetros óptimos con Grid Search"
   ]
  },
  {
   "cell_type": "code",
   "execution_count": 54,
   "metadata": {
    "colab": {
     "autoexec": {
      "startup": false,
      "wait_interval": 0
     }
    },
    "colab_type": "code",
    "id": "P6KYK4Vg5-r8"
   },
   "outputs": [
    {
     "name": "stdout",
     "output_type": "stream",
     "text": [
      "[[356   6   1   0]\n",
      " [  3 111   0   1]\n",
      " [  0   1  19   1]\n",
      " [  0   1   0  19]]\n",
      "             precision    recall  f1-score   support\n",
      "\n",
      "          1       0.99      0.98      0.99       363\n",
      "          2       0.93      0.97      0.95       115\n",
      "          3       0.95      0.90      0.93        21\n",
      "          4       0.90      0.95      0.93        20\n",
      "\n",
      "avg / total       0.97      0.97      0.97       519\n",
      "\n"
     ]
    }
   ],
   "source": [
    "rf = RandomForestClassifier()\n",
    "all_models['rf'] = {'model': rf,\n",
    "                    'score': evaluate_model(rf)}"
   ]
  },
  {
   "cell_type": "code",
   "execution_count": 55,
   "metadata": {},
   "outputs": [
    {
     "name": "stdout",
     "output_type": "stream",
     "text": [
      "[[358   5   0   0]\n",
      " [ 12 103   0   0]\n",
      " [  0   6  14   1]\n",
      " [  0   3   0  17]]\n",
      "             precision    recall  f1-score   support\n",
      "\n",
      "          1       0.97      0.99      0.98       363\n",
      "          2       0.88      0.90      0.89       115\n",
      "          3       1.00      0.67      0.80        21\n",
      "          4       0.94      0.85      0.89        20\n",
      "\n",
      "avg / total       0.95      0.95      0.95       519\n",
      "\n"
     ]
    }
   ],
   "source": [
    "et = ExtraTreesClassifier()\n",
    "all_models['et'] = {'model': et,\n",
    "                    'score': evaluate_model(et)}"
   ]
  },
  {
   "cell_type": "code",
   "execution_count": 59,
   "metadata": {},
   "outputs": [],
   "source": [
    "#all_models"
   ]
  },
  {
   "cell_type": "code",
   "execution_count": 58,
   "metadata": {},
   "outputs": [
    {
     "name": "stdout",
     "output_type": "stream",
     "text": [
      "{'class_weight': 'balanced', 'criterion': 'gini', 'max_depth': None, 'min_samples_split': 2, 'n_estimators': 50}\n",
      "0.97974537037\n",
      "[[358   4   1   0]\n",
      " [  7 107   0   1]\n",
      " [  1   4  14   2]\n",
      " [  0   1   0  19]]\n",
      "             precision    recall  f1-score   support\n",
      "\n",
      "          1       0.98      0.99      0.98       363\n",
      "          2       0.92      0.93      0.93       115\n",
      "          3       0.93      0.67      0.78        21\n",
      "          4       0.86      0.95      0.90        20\n",
      "\n",
      "avg / total       0.96      0.96      0.96       519\n",
      "\n"
     ]
    }
   ],
   "source": [
    "params = {'n_estimators':[3, 5, 10, 50],\n",
    "          'criterion': ['gini', 'entropy'],\n",
    "          'max_depth': [None, 3, 5],\n",
    "          'min_samples_split': [2,5],\n",
    "          'class_weight':[None, 'balanced']}\n",
    "\n",
    "\n",
    "gsrf = GridSearchCV(RandomForestClassifier(n_jobs=-1),\n",
    "                    params, n_jobs=-1,\n",
    "                    cv=KFold(n_splits=3, shuffle=True))\n",
    "\n",
    "gsrf.fit(X, y)\n",
    "print (gsrf.best_params_)\n",
    "print (gsrf.best_score_)\n",
    "\n",
    "all_models['gsrf'] = {'model': gsrf.best_estimator_,\n",
    "                      'score': evaluate_model(gsrf.best_estimator_)}"
   ]
  },
  {
   "cell_type": "code",
   "execution_count": 60,
   "metadata": {},
   "outputs": [
    {
     "name": "stdout",
     "output_type": "stream",
     "text": [
      "{'class_weight': 'balanced', 'criterion': 'gini', 'max_depth': None, 'min_samples_split': 2, 'n_estimators': 50}\n",
      "0.972222222222\n",
      "[[359   3   1   0]\n",
      " [  3 111   0   1]\n",
      " [  0   2  17   2]\n",
      " [  0   1   0  19]]\n",
      "             precision    recall  f1-score   support\n",
      "\n",
      "          1       0.99      0.99      0.99       363\n",
      "          2       0.95      0.97      0.96       115\n",
      "          3       0.94      0.81      0.87        21\n",
      "          4       0.86      0.95      0.90        20\n",
      "\n",
      "avg / total       0.98      0.97      0.97       519\n",
      "\n"
     ]
    }
   ],
   "source": [
    "gset = GridSearchCV(ExtraTreesClassifier(n_jobs=-1),\n",
    "                    params, n_jobs=-1,\n",
    "                    cv=KFold(n_splits=3, shuffle=True))\n",
    "\n",
    "gset.fit(X, y)\n",
    "print (gset.best_params_)\n",
    "print (gset.best_score_)\n",
    "\n",
    "all_models['gset'] = {'model': gset.best_estimator_,\n",
    "                      'score': evaluate_model(gset.best_estimator_)}"
   ]
  },
  {
   "cell_type": "markdown",
   "metadata": {
    "colab_type": "text",
    "id": "ukXjP5fh5-r_"
   },
   "source": [
    "## 8. Comparación de modelos\n",
    "\n",
    "Vamos a comparar los resultados de los diferentes modelos.\n",
    "\n",
    "1. Haga un gráfico de barras de los resultados de los mejores modelos. ¿Cuál es el ganador?\n",
    "- Volver a evaluar todos los modelos usando una validación cruzada estratificada de 3-fold\n",
    "- Hacer un gráfico de barras, mostrando el valor medio y desvío del resultado de la validación cruzada. ¿Es el mismo ganador?\n"
   ]
  },
  {
   "cell_type": "code",
   "execution_count": 62,
   "metadata": {
    "colab": {
     "autoexec": {
      "startup": false,
      "wait_interval": 0
     }
    },
    "colab_type": "code",
    "id": "m_el7TAA5-r_"
   },
   "outputs": [],
   "source": [
    "scores = pd.DataFrame([(k, v['score']) for k, v in all_models.items()],\n",
    "             columns=['model', 'score']).set_index('model').sort_values('score', ascending=False)"
   ]
  },
  {
   "cell_type": "code",
   "execution_count": 63,
   "metadata": {},
   "outputs": [
    {
     "data": {
      "text/plain": [
       "(0.6, 1.1)"
      ]
     },
     "execution_count": 63,
     "metadata": {},
     "output_type": "execute_result"
    },
    {
     "data": {
      "image/png": "[encoded data removed]",
      "text/plain": [
       "<matplotlib.figure.Figure at 0x7fefc59665c0>"
      ]
     },
     "metadata": {},
     "output_type": "display_data"
    }
   ],
   "source": [
    "scores.plot(kind='bar')\n",
    "plt.ylim(0.6, 1.1)"
   ]
  },
  {
   "cell_type": "code",
   "execution_count": 64,
   "metadata": {},
   "outputs": [
    {
     "data": {
      "text/html": [
       "<div>\n",
       "<style scoped>\n",
       "    .dataframe tbody tr th:only-of-type {\n",
       "        vertical-align: middle;\n",
       "    }\n",
       "\n",
       "    .dataframe tbody tr th {\n",
       "        vertical-align: top;\n",
       "    }\n",
       "\n",
       "    .dataframe thead th {\n",
       "        text-align: right;\n",
       "    }\n",
       "</style>\n",
       "<table border=\"1\" class=\"dataframe\">\n",
       "  <thead>\n",
       "    <tr style=\"text-align: right;\">\n",
       "      <th></th>\n",
       "      <th>score</th>\n",
       "    </tr>\n",
       "    <tr>\n",
       "      <th>model</th>\n",
       "      <th></th>\n",
       "    </tr>\n",
       "  </thead>\n",
       "  <tbody>\n",
       "    <tr>\n",
       "      <th>gssvm</th>\n",
       "      <td>0.976879</td>\n",
       "    </tr>\n",
       "    <tr>\n",
       "      <th>gset</th>\n",
       "      <td>0.974952</td>\n",
       "    </tr>\n",
       "    <tr>\n",
       "      <th>rf</th>\n",
       "      <td>0.973025</td>\n",
       "    </tr>\n",
       "    <tr>\n",
       "      <th>gsbaggingdt</th>\n",
       "      <td>0.969171</td>\n",
       "    </tr>\n",
       "    <tr>\n",
       "      <th>gsbaggingsvm</th>\n",
       "      <td>0.967245</td>\n",
       "    </tr>\n",
       "    <tr>\n",
       "      <th>dt</th>\n",
       "      <td>0.963391</td>\n",
       "    </tr>\n",
       "    <tr>\n",
       "      <th>gsdt</th>\n",
       "      <td>0.963391</td>\n",
       "    </tr>\n",
       "    <tr>\n",
       "      <th>gsrf</th>\n",
       "      <td>0.959538</td>\n",
       "    </tr>\n",
       "    <tr>\n",
       "      <th>knn</th>\n",
       "      <td>0.956019</td>\n",
       "    </tr>\n",
       "    <tr>\n",
       "      <th>svm</th>\n",
       "      <td>0.953757</td>\n",
       "    </tr>\n",
       "    <tr>\n",
       "      <th>gsbaggingknn</th>\n",
       "      <td>0.951830</td>\n",
       "    </tr>\n",
       "    <tr>\n",
       "      <th>et</th>\n",
       "      <td>0.947977</td>\n",
       "    </tr>\n",
       "    <tr>\n",
       "      <th>gslr</th>\n",
       "      <td>0.811175</td>\n",
       "    </tr>\n",
       "    <tr>\n",
       "      <th>gsbagginglr</th>\n",
       "      <td>0.807322</td>\n",
       "    </tr>\n",
       "    <tr>\n",
       "      <th>lr</th>\n",
       "      <td>0.774566</td>\n",
       "    </tr>\n",
       "  </tbody>\n",
       "</table>\n",
       "</div>"
      ],
      "text/plain": [
       "                 score\n",
       "model                 \n",
       "gssvm         0.976879\n",
       "gset          0.974952\n",
       "rf            0.973025\n",
       "gsbaggingdt   0.969171\n",
       "gsbaggingsvm  0.967245\n",
       "dt            0.963391\n",
       "gsdt          0.963391\n",
       "gsrf          0.959538\n",
       "knn           0.956019\n",
       "svm           0.953757\n",
       "gsbaggingknn  0.951830\n",
       "et            0.947977\n",
       "gslr          0.811175\n",
       "gsbagginglr   0.807322\n",
       "lr            0.774566"
      ]
     },
     "execution_count": 64,
     "metadata": {},
     "output_type": "execute_result"
    }
   ],
   "source": [
    "scores"
   ]
  },
  {
   "cell_type": "code",
   "execution_count": 66,
   "metadata": {},
   "outputs": [
    {
     "name": "stdout",
     "output_type": "stream",
     "text": [
      "knn\n",
      "gsbaggingknn\n",
      "lr\n",
      "gslr\n",
      "gsbagginglr\n",
      "dt\n",
      "gsdt\n",
      "gsbaggingdt\n",
      "svm\n",
      "gssvm\n",
      "gsbaggingsvm\n",
      "rf\n",
      "et\n",
      "gsrf\n",
      "gset\n"
     ]
    }
   ],
   "source": [
    "def retest(model):\n",
    "    scores = cross_val_score(model, X, y,\n",
    "                             cv=StratifiedKFold(n_splits=3, shuffle=True),\n",
    "                             n_jobs=-1)\n",
    "    m = scores.mean()\n",
    "    s = scores.std()\n",
    "    \n",
    "    return m, s\n",
    "\n",
    "for k, v in all_models.items():\n",
    "    cvres = retest(v['model'])\n",
    "    print (k), \n",
    "    all_models[k]['cvres'] = cvres"
   ]
  },
  {
   "cell_type": "code",
   "execution_count": 67,
   "metadata": {},
   "outputs": [
    {
     "data": {
      "text/html": [
       "<div>\n",
       "<style scoped>\n",
       "    .dataframe tbody tr th:only-of-type {\n",
       "        vertical-align: middle;\n",
       "    }\n",
       "\n",
       "    .dataframe tbody tr th {\n",
       "        vertical-align: top;\n",
       "    }\n",
       "\n",
       "    .dataframe thead th {\n",
       "        text-align: right;\n",
       "    }\n",
       "</style>\n",
       "<table border=\"1\" class=\"dataframe\">\n",
       "  <thead>\n",
       "    <tr style=\"text-align: right;\">\n",
       "      <th></th>\n",
       "      <th>score</th>\n",
       "      <th>error</th>\n",
       "    </tr>\n",
       "    <tr>\n",
       "      <th>model</th>\n",
       "      <th></th>\n",
       "      <th></th>\n",
       "    </tr>\n",
       "  </thead>\n",
       "  <tbody>\n",
       "    <tr>\n",
       "      <th>gssvm</th>\n",
       "      <td>0.981485</td>\n",
       "      <td>0.004968</td>\n",
       "    </tr>\n",
       "    <tr>\n",
       "      <th>gsrf</th>\n",
       "      <td>0.975701</td>\n",
       "      <td>0.006145</td>\n",
       "    </tr>\n",
       "    <tr>\n",
       "      <th>dt</th>\n",
       "      <td>0.972219</td>\n",
       "      <td>0.002492</td>\n",
       "    </tr>\n",
       "    <tr>\n",
       "      <th>gset</th>\n",
       "      <td>0.971640</td>\n",
       "      <td>0.007282</td>\n",
       "    </tr>\n",
       "    <tr>\n",
       "      <th>gsbaggingdt</th>\n",
       "      <td>0.970474</td>\n",
       "      <td>0.009866</td>\n",
       "    </tr>\n",
       "    <tr>\n",
       "      <th>gsdt</th>\n",
       "      <td>0.969906</td>\n",
       "      <td>0.006995</td>\n",
       "    </tr>\n",
       "    <tr>\n",
       "      <th>et</th>\n",
       "      <td>0.965272</td>\n",
       "      <td>0.004302</td>\n",
       "    </tr>\n",
       "    <tr>\n",
       "      <th>gsbaggingsvm</th>\n",
       "      <td>0.962975</td>\n",
       "      <td>0.009071</td>\n",
       "    </tr>\n",
       "    <tr>\n",
       "      <th>rf</th>\n",
       "      <td>0.953124</td>\n",
       "      <td>0.003762</td>\n",
       "    </tr>\n",
       "    <tr>\n",
       "      <th>gsbaggingknn</th>\n",
       "      <td>0.950821</td>\n",
       "      <td>0.010407</td>\n",
       "    </tr>\n",
       "    <tr>\n",
       "      <th>svm</th>\n",
       "      <td>0.946183</td>\n",
       "      <td>0.004211</td>\n",
       "    </tr>\n",
       "    <tr>\n",
       "      <th>knn</th>\n",
       "      <td>0.945609</td>\n",
       "      <td>0.006649</td>\n",
       "    </tr>\n",
       "    <tr>\n",
       "      <th>gsbagginglr</th>\n",
       "      <td>0.833334</td>\n",
       "      <td>0.015965</td>\n",
       "    </tr>\n",
       "    <tr>\n",
       "      <th>gslr</th>\n",
       "      <td>0.831611</td>\n",
       "      <td>0.013779</td>\n",
       "    </tr>\n",
       "    <tr>\n",
       "      <th>lr</th>\n",
       "      <td>0.804960</td>\n",
       "      <td>0.014197</td>\n",
       "    </tr>\n",
       "  </tbody>\n",
       "</table>\n",
       "</div>"
      ],
      "text/plain": [
       "                 score     error\n",
       "model                           \n",
       "gssvm         0.981485  0.004968\n",
       "gsrf          0.975701  0.006145\n",
       "dt            0.972219  0.002492\n",
       "gset          0.971640  0.007282\n",
       "gsbaggingdt   0.970474  0.009866\n",
       "gsdt          0.969906  0.006995\n",
       "et            0.965272  0.004302\n",
       "gsbaggingsvm  0.962975  0.009071\n",
       "rf            0.953124  0.003762\n",
       "gsbaggingknn  0.950821  0.010407\n",
       "svm           0.946183  0.004211\n",
       "knn           0.945609  0.006649\n",
       "gsbagginglr   0.833334  0.015965\n",
       "gslr          0.831611  0.013779\n",
       "lr            0.804960  0.014197"
      ]
     },
     "execution_count": 67,
     "metadata": {},
     "output_type": "execute_result"
    },
    {
     "data": {
      "image/png": "[encoded data removed]",
      "text/plain": [
       "<matplotlib.figure.Figure at 0x7fefc58eb8d0>"
      ]
     },
     "metadata": {},
     "output_type": "display_data"
    }
   ],
   "source": [
    "cvscores = pd.DataFrame([(k, v['cvres'][0], v['cvres'][1] ) for k, v in all_models.items()],\n",
    "                        columns=['model', 'score', 'error']).set_index('model').sort_values('score', ascending=False)\n",
    "\n",
    "\n",
    "fig, ax = plt.subplots()\n",
    "rects1 = ax.bar(range(len(cvscores)), cvscores.score,\n",
    "                yerr=cvscores.error,\n",
    "                tick_label=cvscores.index)\n",
    "\n",
    "ax.set_ylabel('Scores')\n",
    "plt.xticks(rotation=70)\n",
    "plt.ylim(0.6, 1.1)\n",
    "\n",
    "cvscores"
   ]
  },
  {
   "cell_type": "markdown",
   "metadata": {
    "colab_type": "text",
    "id": "izvhpEcM5-sB"
   },
   "source": [
    "## Extra\n",
    "\n",
    "Hemos codificado los datos utilizando un mapa que preservaba el orden.\n",
    "¿Cómo cambiarían los resultados si codificamos los datos categóricos utilizando `pd.get_dummies` o `OneHotEncoder` para codificarlos como variables binarias?\n",
    "\n",
    "1. Repetir el análisis para este escenario. ¿Es mejor?\n",
    "- Experimentar con otros modelos u otros parámetros, ¿puedes obtener el mejor resultado de la clase?"
   ]
  },
  {
   "cell_type": "code",
   "execution_count": 69,
   "metadata": {},
   "outputs": [
    {
     "name": "stdout",
     "output_type": "stream",
     "text": [
      "[[358   4   1   0]\n",
      " [ 18  96   1   0]\n",
      " [  0   3  16   2]\n",
      " [  0   1   0  19]]\n",
      "             precision    recall  f1-score   support\n",
      "\n",
      "          1       0.95      0.99      0.97       363\n",
      "          2       0.92      0.83      0.88       115\n",
      "          3       0.89      0.76      0.82        21\n",
      "          4       0.90      0.95      0.93        20\n",
      "\n",
      "avg / total       0.94      0.94      0.94       519\n",
      "\n"
     ]
    }
   ],
   "source": [
    "all_modelsoh={}\n",
    "\n",
    "onehotpipe = make_pipeline(OneHotEncoder() , dt)\n",
    "\n",
    "all_modelsoh['onehotpipe'] = {'model': onehotpipe,\n",
    "                            'score': evaluate_model(onehotpipe)}"
   ]
  },
  {
   "cell_type": "code",
   "execution_count": 0,
   "metadata": {
    "colab": {
     "autoexec": {
      "startup": false,
      "wait_interval": 0
     }
    },
    "colab_type": "code",
    "id": "VJ6j0wOP5-sB"
   },
   "outputs": [],
   "source": []
  }
 ],
 "metadata": {
  "colab": {
   "default_view": {},
   "name": "Starter_LAB_Eval_Modelos_Feature_Importance.ipynb",
   "provenance": [],
   "version": "0.3.2",
   "views": {}
  },
  "kernelspec": {
   "display_name": "Python 3",
   "language": "python",
   "name": "python3"
  },
  "language_info": {
   "codemirror_mode": {
    "name": "ipython",
    "version": 3
   },
   "file_extension": ".py",
   "mimetype": "text/x-python",
   "name": "python",
   "nbconvert_exporter": "python",
   "pygments_lexer": "ipython3",
   "version": "3.6.4"
  }
 },
 "nbformat": 4,
 "nbformat_minor": 1
}
